{
 "cells": [
  {
   "cell_type": "markdown",
   "id": "7615df8b",
   "metadata": {},
   "source": [
    "<h1 style=\"font-family:URW Chancery L, cursive;color:red\">Introduction</h1>\n",
    "<p>Heart disease is one of the most significant problems that is arising in the world today. Cardiovascular disease prediction is a critical challenge in the area of clinical data analysis. Various studies give only a glimpse in predicting heart disease with ML techniques. The correct prediction of heart disease can prevent life threats, and incorrect prediction can prove to be fatal at the same time. If such a prediction is accurate enough, we can not only avoid wrong diagnosis but also save human resources. When a patient without a heart disease is diagnosed with heart disease, he will fall into unnecessary panic and when a patient with heart disease is not diagnosed with heart disease, he will miss the best chance to cure his disease. Such wrong diagnosis is painful to both patients and hospitals. With accurate predictions, we can solve the unnecessary trouble. Besides, if we can apply our machine learning tool into medical prediction, we will save human resource because we do not need complicated diagnosis process in hospitals.</p>"
   ]
  },
  {
   "cell_type": "markdown",
   "id": "259a49a6",
   "metadata": {},
   "source": [
    "<h1 style=\"font-family:URW Chancery L, cursive;color:red;\">Contents</h1>\n",
    "<p>\n",
    "<ol>\n",
    "    <li>Setup</li>\n",
    "    <li>Basic Data Information</li>\n",
    "    <li>Column by Column Analysis</li>\n",
    "    <li>Heart Disease Distribution for each Column</li>\n",
    "    <li>Preparation of the Columns for Modelling</li>\n",
    "    <li>Logistic Regression</li>\n",
    "    <li>Random Forest</li>\n",
    "    <li>Deploying through streamlit</li>\n",
    "</ol>\n",
    "</p>"
   ]
  },
  {
   "cell_type": "markdown",
   "id": "c93d975b",
   "metadata": {},
   "source": [
    "<h1 style=\"font-family:URW Chancery L, cursive;color:red;\">1.Setup</h1>\n",
    "<p>In this section, the libraries used in this project are imported</p>"
   ]
  },
  {
   "cell_type": "code",
   "execution_count": 3,
   "id": "406f8fb1",
   "metadata": {},
   "outputs": [],
   "source": [
    "import numpy as np\n",
    "import warnings\n",
    "warnings.filterwarnings('ignore')\n",
    "from scipy.stats import norm\n",
    "\n",
    "#Data Loading, Manipulation, Analysis and Visualization Libraries\n",
    "import pandas as pd\n",
    "import seaborn as sns\n",
    "import matplotlib.pyplot as plt\n",
    "from sklearn.preprocessing import StandardScaler\n",
    "\n",
    "#Oridinal Encoder\n",
    "from category_encoders import OrdinalEncoder\n",
    "\n",
    "#Modelling Libraries\n",
    "#(1)Classifiers\n",
    "from sklearn.linear_model import LogisticRegression\n",
    "from sklearn.neighbors import KNeighborsClassifier\n",
    "from sklearn.ensemble import RandomForestClassifier\n",
    "from sklearn.neural_network import MLPClassifier\n",
    "from sklearn.model_selection import GridSearchCV\n",
    "#(2)Functions for model evaluation\n",
    "from sklearn.metrics import confusion_matrix,ConfusionMatrixDisplay\n",
    "from sklearn.metrics import accuracy_score\n",
    "from sklearn.metrics import precision_score\n",
    "from sklearn.metrics import recall_score\n",
    "from sklearn.metrics import roc_curve\n",
    "from sklearn.metrics import f1_score\n",
    "from sklearn.model_selection import train_test_split\n",
    "import time"
   ]
  },
  {
   "cell_type": "markdown",
   "id": "946eaf46",
   "metadata": {},
   "source": [
    "<h1 style=\"font-family:URW Chancery L, cursive;color:red;\">2.Basic Data Information</h1>\n",
    "<p>Loading the data</p>"
   ]
  },
  {
   "cell_type": "code",
   "execution_count": 4,
   "id": "f5c146aa",
   "metadata": {},
   "outputs": [],
   "source": [
    "data=pd.read_csv('heart_2020_cleaned.csv')\n",
    "df=pd.read_csv('heart_2020_cleaned.csv')"
   ]
  },
  {
   "cell_type": "markdown",
   "id": "16a5ab19",
   "metadata": {},
   "source": [
    "<p>First five rows of the data are shown below</p>"
   ]
  },
  {
   "cell_type": "code",
   "execution_count": 5,
   "id": "b746e26d",
   "metadata": {},
   "outputs": [
    {
     "data": {
      "text/html": [
       "<div>\n",
       "<style scoped>\n",
       "    .dataframe tbody tr th:only-of-type {\n",
       "        vertical-align: middle;\n",
       "    }\n",
       "\n",
       "    .dataframe tbody tr th {\n",
       "        vertical-align: top;\n",
       "    }\n",
       "\n",
       "    .dataframe thead th {\n",
       "        text-align: right;\n",
       "    }\n",
       "</style>\n",
       "<table border=\"1\" class=\"dataframe\">\n",
       "  <thead>\n",
       "    <tr style=\"text-align: right;\">\n",
       "      <th></th>\n",
       "      <th>HeartDisease</th>\n",
       "      <th>BMI</th>\n",
       "      <th>Smoking</th>\n",
       "      <th>AlcoholDrinking</th>\n",
       "      <th>Stroke</th>\n",
       "      <th>PhysicalHealth</th>\n",
       "      <th>MentalHealth</th>\n",
       "      <th>DiffWalking</th>\n",
       "      <th>Sex</th>\n",
       "      <th>AgeCategory</th>\n",
       "      <th>Race</th>\n",
       "      <th>Diabetic</th>\n",
       "      <th>PhysicalActivity</th>\n",
       "      <th>GenHealth</th>\n",
       "      <th>SleepTime</th>\n",
       "      <th>Asthma</th>\n",
       "      <th>KidneyDisease</th>\n",
       "      <th>SkinCancer</th>\n",
       "    </tr>\n",
       "  </thead>\n",
       "  <tbody>\n",
       "    <tr>\n",
       "      <th>0</th>\n",
       "      <td>No</td>\n",
       "      <td>16.60</td>\n",
       "      <td>Yes</td>\n",
       "      <td>No</td>\n",
       "      <td>No</td>\n",
       "      <td>3.0</td>\n",
       "      <td>30.0</td>\n",
       "      <td>No</td>\n",
       "      <td>Female</td>\n",
       "      <td>55-59</td>\n",
       "      <td>White</td>\n",
       "      <td>Yes</td>\n",
       "      <td>Yes</td>\n",
       "      <td>Very good</td>\n",
       "      <td>5.0</td>\n",
       "      <td>Yes</td>\n",
       "      <td>No</td>\n",
       "      <td>Yes</td>\n",
       "    </tr>\n",
       "    <tr>\n",
       "      <th>1</th>\n",
       "      <td>No</td>\n",
       "      <td>20.34</td>\n",
       "      <td>No</td>\n",
       "      <td>No</td>\n",
       "      <td>Yes</td>\n",
       "      <td>0.0</td>\n",
       "      <td>0.0</td>\n",
       "      <td>No</td>\n",
       "      <td>Female</td>\n",
       "      <td>80 or older</td>\n",
       "      <td>White</td>\n",
       "      <td>No</td>\n",
       "      <td>Yes</td>\n",
       "      <td>Very good</td>\n",
       "      <td>7.0</td>\n",
       "      <td>No</td>\n",
       "      <td>No</td>\n",
       "      <td>No</td>\n",
       "    </tr>\n",
       "    <tr>\n",
       "      <th>2</th>\n",
       "      <td>No</td>\n",
       "      <td>26.58</td>\n",
       "      <td>Yes</td>\n",
       "      <td>No</td>\n",
       "      <td>No</td>\n",
       "      <td>20.0</td>\n",
       "      <td>30.0</td>\n",
       "      <td>No</td>\n",
       "      <td>Male</td>\n",
       "      <td>65-69</td>\n",
       "      <td>White</td>\n",
       "      <td>Yes</td>\n",
       "      <td>Yes</td>\n",
       "      <td>Fair</td>\n",
       "      <td>8.0</td>\n",
       "      <td>Yes</td>\n",
       "      <td>No</td>\n",
       "      <td>No</td>\n",
       "    </tr>\n",
       "    <tr>\n",
       "      <th>3</th>\n",
       "      <td>No</td>\n",
       "      <td>24.21</td>\n",
       "      <td>No</td>\n",
       "      <td>No</td>\n",
       "      <td>No</td>\n",
       "      <td>0.0</td>\n",
       "      <td>0.0</td>\n",
       "      <td>No</td>\n",
       "      <td>Female</td>\n",
       "      <td>75-79</td>\n",
       "      <td>White</td>\n",
       "      <td>No</td>\n",
       "      <td>No</td>\n",
       "      <td>Good</td>\n",
       "      <td>6.0</td>\n",
       "      <td>No</td>\n",
       "      <td>No</td>\n",
       "      <td>Yes</td>\n",
       "    </tr>\n",
       "    <tr>\n",
       "      <th>4</th>\n",
       "      <td>No</td>\n",
       "      <td>23.71</td>\n",
       "      <td>No</td>\n",
       "      <td>No</td>\n",
       "      <td>No</td>\n",
       "      <td>28.0</td>\n",
       "      <td>0.0</td>\n",
       "      <td>Yes</td>\n",
       "      <td>Female</td>\n",
       "      <td>40-44</td>\n",
       "      <td>White</td>\n",
       "      <td>No</td>\n",
       "      <td>Yes</td>\n",
       "      <td>Very good</td>\n",
       "      <td>8.0</td>\n",
       "      <td>No</td>\n",
       "      <td>No</td>\n",
       "      <td>No</td>\n",
       "    </tr>\n",
       "  </tbody>\n",
       "</table>\n",
       "</div>"
      ],
      "text/plain": [
       "  HeartDisease    BMI Smoking AlcoholDrinking Stroke  PhysicalHealth  \\\n",
       "0           No  16.60     Yes              No     No             3.0   \n",
       "1           No  20.34      No              No    Yes             0.0   \n",
       "2           No  26.58     Yes              No     No            20.0   \n",
       "3           No  24.21      No              No     No             0.0   \n",
       "4           No  23.71      No              No     No            28.0   \n",
       "\n",
       "   MentalHealth DiffWalking     Sex  AgeCategory   Race Diabetic  \\\n",
       "0          30.0          No  Female        55-59  White      Yes   \n",
       "1           0.0          No  Female  80 or older  White       No   \n",
       "2          30.0          No    Male        65-69  White      Yes   \n",
       "3           0.0          No  Female        75-79  White       No   \n",
       "4           0.0         Yes  Female        40-44  White       No   \n",
       "\n",
       "  PhysicalActivity  GenHealth  SleepTime Asthma KidneyDisease SkinCancer  \n",
       "0              Yes  Very good        5.0    Yes            No        Yes  \n",
       "1              Yes  Very good        7.0     No            No         No  \n",
       "2              Yes       Fair        8.0    Yes            No         No  \n",
       "3               No       Good        6.0     No            No        Yes  \n",
       "4              Yes  Very good        8.0     No            No         No  "
      ]
     },
     "execution_count": 5,
     "metadata": {},
     "output_type": "execute_result"
    }
   ],
   "source": [
    "data.head()"
   ]
  },
  {
   "cell_type": "code",
   "execution_count": 6,
   "id": "4b604493",
   "metadata": {},
   "outputs": [
    {
     "name": "stdout",
     "output_type": "stream",
     "text": [
      "number of rows: 319795\n",
      "number of columns: 18\n"
     ]
    }
   ],
   "source": [
    "print('number of rows:', data.shape[0])\n",
    "print('number of columns:', data.shape[1])"
   ]
  },
  {
   "cell_type": "code",
   "execution_count": 7,
   "id": "a907e345",
   "metadata": {},
   "outputs": [
    {
     "data": {
      "text/plain": [
       "Index(['HeartDisease', 'BMI', 'Smoking', 'AlcoholDrinking', 'Stroke',\n",
       "       'PhysicalHealth', 'MentalHealth', 'DiffWalking', 'Sex', 'AgeCategory',\n",
       "       'Race', 'Diabetic', 'PhysicalActivity', 'GenHealth', 'SleepTime',\n",
       "       'Asthma', 'KidneyDisease', 'SkinCancer'],\n",
       "      dtype='object')"
      ]
     },
     "execution_count": 7,
     "metadata": {},
     "output_type": "execute_result"
    }
   ],
   "source": [
    "data.columns"
   ]
  },
  {
   "cell_type": "markdown",
   "id": "8978121b",
   "metadata": {},
   "source": [
    "Above is the list of the columns. According to the [dataset page](https://www.cdc.gov/heartdisease/risk_factors.htm), the details of each column is given as:\n",
    "This is the reference to look at the meaning of the values.\n",
    "\n",
    "| Column     | Detail |\n",
    "| ----------- | ----------- |\n",
    "| **HeartDisease**      |Respondents that have ever reported having coronary heart disease (CHD) or myocardial infarction (MI) |\n",
    "| **BMI**   |Body Mass Index (BMI) |\n",
    "| **Smoking**  | Have you smoked at least 100 cigarettes in your entire life? [Note: 5 packs = 100 cigarettes]|\n",
    "| **AlcoholDrinking**  | Heavy drinkers (adult men having more than 14 drinks per week and adult women having more than 7 drinks per week)|\n",
    "| **Stroke**  |(Ever told) (you had) a stroke? |\n",
    "| **PhysicalHealth**  |Now thinking about your physical health, which includes physical illness and injury, for how many days during the past 30 days was your physical health not good?|\n",
    "| **MentalHealth**  |Thinking about your mental health, for how many days during the past 30 days was your mental health not good?  |\n",
    "| **DiffWalking**  |Do you have serious difficulty walking or climbing stairs? |\n",
    "| **Sex**  |Are you male or female?  |\n",
    "| **AgeCategory**  |Fourteen-level age category  |\n",
    "| **Race**  |Imputed race/ethnicity value  |\n",
    "| **Diabetic**  |(Ever told) (you had) diabetes?  |\n",
    "| **PhysicalActivity**  |Adults who reported doing physical activity or exercise during the past 30 days other than their regular job  |\n",
    "| **GenHealth**  |Would you say that in general your health is...  |\n",
    "| **SleepTime**  |On average, how many hours of sleep do you get in a 24-hour period?  |\n",
    "| **Asthma**  |(Ever told) (you had) asthma?  |\n",
    "| **KidneyDisease**  |Not including kidney stones, bladder infection or incontinence, were you ever told you had kidney disease? |\n",
    "| **SkinCancer**  |(Ever told) (you had) skin cancer?  |"
   ]
  },
  {
   "cell_type": "markdown",
   "id": "0bcfd198",
   "metadata": {},
   "source": [
    "Checking for null data"
   ]
  },
  {
   "cell_type": "code",
   "execution_count": 8,
   "id": "8dea5683",
   "metadata": {},
   "outputs": [
    {
     "data": {
      "text/plain": [
       "HeartDisease        False\n",
       "BMI                 False\n",
       "Smoking             False\n",
       "AlcoholDrinking     False\n",
       "Stroke              False\n",
       "PhysicalHealth      False\n",
       "MentalHealth        False\n",
       "DiffWalking         False\n",
       "Sex                 False\n",
       "AgeCategory         False\n",
       "Race                False\n",
       "Diabetic            False\n",
       "PhysicalActivity    False\n",
       "GenHealth           False\n",
       "SleepTime           False\n",
       "Asthma              False\n",
       "KidneyDisease       False\n",
       "SkinCancer          False\n",
       "dtype: bool"
      ]
     },
     "execution_count": 8,
     "metadata": {},
     "output_type": "execute_result"
    }
   ],
   "source": [
    "data.isnull().any()"
   ]
  },
  {
   "cell_type": "markdown",
   "id": "85950b2f",
   "metadata": {},
   "source": [
    "there are no missing values in the data"
   ]
  },
  {
   "cell_type": "code",
   "execution_count": 9,
   "id": "8f8a1263",
   "metadata": {
    "scrolled": true
   },
   "outputs": [
    {
     "name": "stdout",
     "output_type": "stream",
     "text": [
      "<class 'pandas.core.frame.DataFrame'>\n",
      "RangeIndex: 319795 entries, 0 to 319794\n",
      "Data columns (total 18 columns):\n",
      " #   Column            Non-Null Count   Dtype  \n",
      "---  ------            --------------   -----  \n",
      " 0   HeartDisease      319795 non-null  object \n",
      " 1   BMI               319795 non-null  float64\n",
      " 2   Smoking           319795 non-null  object \n",
      " 3   AlcoholDrinking   319795 non-null  object \n",
      " 4   Stroke            319795 non-null  object \n",
      " 5   PhysicalHealth    319795 non-null  float64\n",
      " 6   MentalHealth      319795 non-null  float64\n",
      " 7   DiffWalking       319795 non-null  object \n",
      " 8   Sex               319795 non-null  object \n",
      " 9   AgeCategory       319795 non-null  object \n",
      " 10  Race              319795 non-null  object \n",
      " 11  Diabetic          319795 non-null  object \n",
      " 12  PhysicalActivity  319795 non-null  object \n",
      " 13  GenHealth         319795 non-null  object \n",
      " 14  SleepTime         319795 non-null  float64\n",
      " 15  Asthma            319795 non-null  object \n",
      " 16  KidneyDisease     319795 non-null  object \n",
      " 17  SkinCancer        319795 non-null  object \n",
      "dtypes: float64(4), object(14)\n",
      "memory usage: 43.9+ MB\n"
     ]
    }
   ],
   "source": [
    "data.info()"
   ]
  },
  {
   "cell_type": "code",
   "execution_count": 10,
   "id": "9cd103e7",
   "metadata": {},
   "outputs": [
    {
     "data": {
      "text/html": [
       "<div>\n",
       "<style scoped>\n",
       "    .dataframe tbody tr th:only-of-type {\n",
       "        vertical-align: middle;\n",
       "    }\n",
       "\n",
       "    .dataframe tbody tr th {\n",
       "        vertical-align: top;\n",
       "    }\n",
       "\n",
       "    .dataframe thead th {\n",
       "        text-align: right;\n",
       "    }\n",
       "</style>\n",
       "<table border=\"1\" class=\"dataframe\">\n",
       "  <thead>\n",
       "    <tr style=\"text-align: right;\">\n",
       "      <th></th>\n",
       "      <th>BMI</th>\n",
       "      <th>PhysicalHealth</th>\n",
       "      <th>MentalHealth</th>\n",
       "      <th>SleepTime</th>\n",
       "    </tr>\n",
       "  </thead>\n",
       "  <tbody>\n",
       "    <tr>\n",
       "      <th>count</th>\n",
       "      <td>319795.000000</td>\n",
       "      <td>319795.00000</td>\n",
       "      <td>319795.000000</td>\n",
       "      <td>319795.000000</td>\n",
       "    </tr>\n",
       "    <tr>\n",
       "      <th>mean</th>\n",
       "      <td>28.325399</td>\n",
       "      <td>3.37171</td>\n",
       "      <td>3.898366</td>\n",
       "      <td>7.097075</td>\n",
       "    </tr>\n",
       "    <tr>\n",
       "      <th>std</th>\n",
       "      <td>6.356100</td>\n",
       "      <td>7.95085</td>\n",
       "      <td>7.955235</td>\n",
       "      <td>1.436007</td>\n",
       "    </tr>\n",
       "    <tr>\n",
       "      <th>min</th>\n",
       "      <td>12.020000</td>\n",
       "      <td>0.00000</td>\n",
       "      <td>0.000000</td>\n",
       "      <td>1.000000</td>\n",
       "    </tr>\n",
       "    <tr>\n",
       "      <th>25%</th>\n",
       "      <td>24.030000</td>\n",
       "      <td>0.00000</td>\n",
       "      <td>0.000000</td>\n",
       "      <td>6.000000</td>\n",
       "    </tr>\n",
       "    <tr>\n",
       "      <th>50%</th>\n",
       "      <td>27.340000</td>\n",
       "      <td>0.00000</td>\n",
       "      <td>0.000000</td>\n",
       "      <td>7.000000</td>\n",
       "    </tr>\n",
       "    <tr>\n",
       "      <th>75%</th>\n",
       "      <td>31.420000</td>\n",
       "      <td>2.00000</td>\n",
       "      <td>3.000000</td>\n",
       "      <td>8.000000</td>\n",
       "    </tr>\n",
       "    <tr>\n",
       "      <th>max</th>\n",
       "      <td>94.850000</td>\n",
       "      <td>30.00000</td>\n",
       "      <td>30.000000</td>\n",
       "      <td>24.000000</td>\n",
       "    </tr>\n",
       "  </tbody>\n",
       "</table>\n",
       "</div>"
      ],
      "text/plain": [
       "                 BMI  PhysicalHealth   MentalHealth      SleepTime\n",
       "count  319795.000000    319795.00000  319795.000000  319795.000000\n",
       "mean       28.325399         3.37171       3.898366       7.097075\n",
       "std         6.356100         7.95085       7.955235       1.436007\n",
       "min        12.020000         0.00000       0.000000       1.000000\n",
       "25%        24.030000         0.00000       0.000000       6.000000\n",
       "50%        27.340000         0.00000       0.000000       7.000000\n",
       "75%        31.420000         2.00000       3.000000       8.000000\n",
       "max        94.850000        30.00000      30.000000      24.000000"
      ]
     },
     "execution_count": 10,
     "metadata": {},
     "output_type": "execute_result"
    }
   ],
   "source": [
    "data.describe()"
   ]
  },
  {
   "cell_type": "markdown",
   "id": "e14b8167",
   "metadata": {},
   "source": [
    "<p>We can observe that BMI and SleepTime has extremely high values.</p>\n",
    "<p>We have to even check for attributes with dtype value as object.</p>"
   ]
  },
  {
   "cell_type": "code",
   "execution_count": 11,
   "id": "80fd526a",
   "metadata": {},
   "outputs": [
    {
     "data": {
      "text/html": [
       "<div>\n",
       "<style scoped>\n",
       "    .dataframe tbody tr th:only-of-type {\n",
       "        vertical-align: middle;\n",
       "    }\n",
       "\n",
       "    .dataframe tbody tr th {\n",
       "        vertical-align: top;\n",
       "    }\n",
       "\n",
       "    .dataframe thead th {\n",
       "        text-align: right;\n",
       "    }\n",
       "</style>\n",
       "<table border=\"1\" class=\"dataframe\">\n",
       "  <thead>\n",
       "    <tr style=\"text-align: right;\">\n",
       "      <th></th>\n",
       "      <th>HeartDisease</th>\n",
       "      <th>Smoking</th>\n",
       "      <th>AlcoholDrinking</th>\n",
       "      <th>Stroke</th>\n",
       "      <th>DiffWalking</th>\n",
       "      <th>Sex</th>\n",
       "      <th>AgeCategory</th>\n",
       "      <th>Race</th>\n",
       "      <th>Diabetic</th>\n",
       "      <th>PhysicalActivity</th>\n",
       "      <th>GenHealth</th>\n",
       "      <th>Asthma</th>\n",
       "      <th>KidneyDisease</th>\n",
       "      <th>SkinCancer</th>\n",
       "    </tr>\n",
       "  </thead>\n",
       "  <tbody>\n",
       "    <tr>\n",
       "      <th>count</th>\n",
       "      <td>319795</td>\n",
       "      <td>319795</td>\n",
       "      <td>319795</td>\n",
       "      <td>319795</td>\n",
       "      <td>319795</td>\n",
       "      <td>319795</td>\n",
       "      <td>319795</td>\n",
       "      <td>319795</td>\n",
       "      <td>319795</td>\n",
       "      <td>319795</td>\n",
       "      <td>319795</td>\n",
       "      <td>319795</td>\n",
       "      <td>319795</td>\n",
       "      <td>319795</td>\n",
       "    </tr>\n",
       "    <tr>\n",
       "      <th>unique</th>\n",
       "      <td>2</td>\n",
       "      <td>2</td>\n",
       "      <td>2</td>\n",
       "      <td>2</td>\n",
       "      <td>2</td>\n",
       "      <td>2</td>\n",
       "      <td>13</td>\n",
       "      <td>6</td>\n",
       "      <td>4</td>\n",
       "      <td>2</td>\n",
       "      <td>5</td>\n",
       "      <td>2</td>\n",
       "      <td>2</td>\n",
       "      <td>2</td>\n",
       "    </tr>\n",
       "    <tr>\n",
       "      <th>top</th>\n",
       "      <td>No</td>\n",
       "      <td>No</td>\n",
       "      <td>No</td>\n",
       "      <td>No</td>\n",
       "      <td>No</td>\n",
       "      <td>Female</td>\n",
       "      <td>65-69</td>\n",
       "      <td>White</td>\n",
       "      <td>No</td>\n",
       "      <td>Yes</td>\n",
       "      <td>Very good</td>\n",
       "      <td>No</td>\n",
       "      <td>No</td>\n",
       "      <td>No</td>\n",
       "    </tr>\n",
       "    <tr>\n",
       "      <th>freq</th>\n",
       "      <td>292422</td>\n",
       "      <td>187887</td>\n",
       "      <td>298018</td>\n",
       "      <td>307726</td>\n",
       "      <td>275385</td>\n",
       "      <td>167805</td>\n",
       "      <td>34151</td>\n",
       "      <td>245212</td>\n",
       "      <td>269653</td>\n",
       "      <td>247957</td>\n",
       "      <td>113858</td>\n",
       "      <td>276923</td>\n",
       "      <td>308016</td>\n",
       "      <td>289976</td>\n",
       "    </tr>\n",
       "  </tbody>\n",
       "</table>\n",
       "</div>"
      ],
      "text/plain": [
       "       HeartDisease Smoking AlcoholDrinking  Stroke DiffWalking     Sex  \\\n",
       "count        319795  319795          319795  319795      319795  319795   \n",
       "unique            2       2               2       2           2       2   \n",
       "top              No      No              No      No          No  Female   \n",
       "freq         292422  187887          298018  307726      275385  167805   \n",
       "\n",
       "       AgeCategory    Race Diabetic PhysicalActivity  GenHealth  Asthma  \\\n",
       "count       319795  319795   319795           319795     319795  319795   \n",
       "unique          13       6        4                2          5       2   \n",
       "top          65-69   White       No              Yes  Very good      No   \n",
       "freq         34151  245212   269653           247957     113858  276923   \n",
       "\n",
       "       KidneyDisease SkinCancer  \n",
       "count         319795     319795  \n",
       "unique             2          2  \n",
       "top               No         No  \n",
       "freq          308016     289976  "
      ]
     },
     "execution_count": 11,
     "metadata": {},
     "output_type": "execute_result"
    }
   ],
   "source": [
    "data.describe(include='O')"
   ]
  },
  {
   "cell_type": "markdown",
   "id": "d679cfa9",
   "metadata": {},
   "source": [
    "<h1 style=\"font-family:URW Chancery L, cursive;color:red;\">3.Column by Column Analysis</h1>\n",
    "<p>Distribution of each column is analyzed</p>\n",
    "<br>\n",
    "<b>Heart Disease</b>\n",
    "<p>This is the target column for the classification task.</p>\n",
    "<br>"
   ]
  },
  {
   "cell_type": "code",
   "execution_count": 12,
   "id": "48f3e5ff",
   "metadata": {},
   "outputs": [
    {
     "data": {
      "text/plain": [
       "<AxesSubplot:xlabel='HeartDisease', ylabel='count'>"
      ]
     },
     "execution_count": 12,
     "metadata": {},
     "output_type": "execute_result"
    },
    {
     "data": {
      "image/png": "[encoded data removed]",
      "text/plain": [
       "<Figure size 432x288 with 1 Axes>"
      ]
     },
     "metadata": {
      "needs_background": "light"
     },
     "output_type": "display_data"
    }
   ],
   "source": [
    "sns.countplot(x=\"HeartDisease\",data=data)"
   ]
  },
  {
   "cell_type": "code",
   "execution_count": 13,
   "id": "69d083db",
   "metadata": {},
   "outputs": [
    {
     "data": {
      "text/html": [
       "<div>\n",
       "<style scoped>\n",
       "    .dataframe tbody tr th:only-of-type {\n",
       "        vertical-align: middle;\n",
       "    }\n",
       "\n",
       "    .dataframe tbody tr th {\n",
       "        vertical-align: top;\n",
       "    }\n",
       "\n",
       "    .dataframe thead th {\n",
       "        text-align: right;\n",
       "    }\n",
       "</style>\n",
       "<table border=\"1\" class=\"dataframe\">\n",
       "  <thead>\n",
       "    <tr style=\"text-align: right;\">\n",
       "      <th></th>\n",
       "      <th>HeartDisease</th>\n",
       "    </tr>\n",
       "  </thead>\n",
       "  <tbody>\n",
       "    <tr>\n",
       "      <th>No</th>\n",
       "      <td>91.44</td>\n",
       "    </tr>\n",
       "    <tr>\n",
       "      <th>Yes</th>\n",
       "      <td>8.56</td>\n",
       "    </tr>\n",
       "  </tbody>\n",
       "</table>\n",
       "</div>"
      ],
      "text/plain": [
       "     HeartDisease\n",
       "No          91.44\n",
       "Yes          8.56"
      ]
     },
     "execution_count": 13,
     "metadata": {},
     "output_type": "execute_result"
    }
   ],
   "source": [
    "pd.DataFrame(round((data['HeartDisease'].value_counts()/data.shape[0]*100),2))"
   ]
  },
  {
   "cell_type": "markdown",
   "id": "4553f026",
   "metadata": {},
   "source": [
    "<p>Most people in this dataset are reported not to have a heart disease.(coronary heart disease (CHD) or myocardial infarction (MI) in specific)</p>"
   ]
  },
  {
   "cell_type": "markdown",
   "id": "c057c61f",
   "metadata": {},
   "source": [
    "<b style=\"font-size:105%\">BMI</b>"
   ]
  },
  {
   "cell_type": "code",
   "execution_count": 14,
   "id": "8d814330",
   "metadata": {},
   "outputs": [
    {
     "data": {
      "text/plain": [
       "Text(0, 0.5, 'Weight')"
      ]
     },
     "execution_count": 14,
     "metadata": {},
     "output_type": "execute_result"
    },
    {
     "data": {
      "image/png": "[encoded data removed]",
      "text/plain": [
       "<Figure size 720x360 with 1 Axes>"
      ]
     },
     "metadata": {
      "needs_background": "light"
     },
     "output_type": "display_data"
    }
   ],
   "source": [
    "ar=data['BMI'].hist(bins = 50, color = 'powderblue', figsize = (10,5))\n",
    "ar.set_xlabel(\"BMI\")\n",
    "ar.set_ylabel(\"Weight\")"
   ]
  },
  {
   "cell_type": "markdown",
   "id": "b63a75f6",
   "metadata": {},
   "source": [
    "<p>The distribution of BMI seems mostly normal though there is a slight right skewardness</p>\n",
    "<p>The percentage of outliers is towards left and right is calculated</p>"
   ]
  },
  {
   "cell_type": "code",
   "execution_count": 15,
   "id": "91076fe7",
   "metadata": {},
   "outputs": [
    {
     "name": "stdout",
     "output_type": "stream",
     "text": [
      "3.24\n",
      "0.01\n"
     ]
    }
   ],
   "source": [
    "BMI_75 = data['BMI'].describe()['75%']\n",
    "BMI_25 = data['BMI'].describe()['25%']\n",
    "BMI_IQR = BMI_75 - BMI_25\n",
    "\n",
    "#Outlier Check (%)\n",
    "print(round(data[data['BMI'] > BMI_75 + 1.5 * BMI_IQR]['BMI'].count()/data.shape[0]*100, 2))\n",
    "print(round(data[data['BMI'] < BMI_25 - 1.5 * BMI_IQR]['BMI'].count()/data.shape[0]*100, 2))"
   ]
  },
  {
   "cell_type": "code",
   "execution_count": 16,
   "id": "07bdd319",
   "metadata": {},
   "outputs": [
    {
     "data": {
      "image/png": "[encoded data removed]",
      "text/plain": [
       "<Figure size 720x576 with 1 Axes>"
      ]
     },
     "metadata": {
      "needs_background": "light"
     },
     "output_type": "display_data"
    }
   ],
   "source": [
    "df_num=data.select_dtypes(include=[\"float64\"])\n",
    "plt.figure(figsize=(10,8))\n",
    "sns.set_theme(style=\"whitegrid\")\n",
    "sns.boxplot(data=df_num, showfliers=False)  \n",
    "plt.xlabel(\"Numerical Attributes\", fontsize= 12)\n",
    "plt.ylabel(\"Values\", fontsize= 12)\n",
    "plt.title(\"Numerical Attributes Boxplot\", fontsize= 15)\n",
    "plt.show()"
   ]
  },
  {
   "cell_type": "markdown",
   "id": "33792ced",
   "metadata": {},
   "source": [
    "Columns with answers given yes or no(Categorical values with only yes or no)"
   ]
  },
  {
   "cell_type": "code",
   "execution_count": 17,
   "id": "28638547",
   "metadata": {},
   "outputs": [
    {
     "name": "stdout",
     "output_type": "stream",
     "text": [
      "['Smoking', 'AlcoholDrinking', 'Stroke', 'DiffWalking', 'PhysicalActivity', 'Asthma', 'KidneyDisease', 'SkinCancer']\n"
     ]
    },
    {
     "data": {
      "text/plain": [
       "8"
      ]
     },
     "execution_count": 17,
     "metadata": {},
     "output_type": "execute_result"
    }
   ],
   "source": [
    "Yes_No_Columns = [column for column in data.columns if (len(data[column].value_counts()) == 2)]\n",
    "Yes_No_Columns.remove('HeartDisease')\n",
    "Yes_No_Columns.remove('Sex')\n",
    "print(Yes_No_Columns)\n",
    "len(Yes_No_Columns)"
   ]
  },
  {
   "cell_type": "markdown",
   "id": "20b1979b",
   "metadata": {},
   "source": [
    "There are eight columns of this kind (excluding HeartDisease)."
   ]
  },
  {
   "cell_type": "code",
   "execution_count": 18,
   "id": "fe2d3d4b",
   "metadata": {
    "scrolled": true
   },
   "outputs": [
    {
     "data": {
      "image/png": "[encoded data removed]",
      "text/plain": [
       "<Figure size 1080x576 with 8 Axes>"
      ]
     },
     "metadata": {},
     "output_type": "display_data"
    }
   ],
   "source": [
    "fig, axes = plt.subplots(nrows=2, ncols=4, sharey = True, figsize = (15,8))\n",
    "plt.subplots_adjust(hspace = 0.3)\n",
    "\n",
    "for Column in Yes_No_Columns:\n",
    "    row_n= int((Yes_No_Columns.index(Column) - Yes_No_Columns.index(Column) % 4)/4)\n",
    "    column_n = Yes_No_Columns.index(Column) % 4\n",
    "    (data[Column].value_counts()/data.shape[0]).plot(kind = 'bar', ax = axes[row_n,column_n], title = Column, color = 'cornflowerblue')"
   ]
  },
  {
   "cell_type": "markdown",
   "id": "8ce4568d",
   "metadata": {},
   "source": [
    "For each of the plot above, we can see the proportions/distribution of Yes/No results to the related attributes.Out of them most values dont have a good distribution but Smoking has got a balanced distribution."
   ]
  },
  {
   "cell_type": "markdown",
   "id": "665e9d0d",
   "metadata": {},
   "source": [
    "<b>Physical And Mental Health</b>"
   ]
  },
  {
   "cell_type": "code",
   "execution_count": 19,
   "id": "60adbb37",
   "metadata": {},
   "outputs": [
    {
     "data": {
      "text/plain": [
       "<AxesSubplot:>"
      ]
     },
     "execution_count": 19,
     "metadata": {},
     "output_type": "execute_result"
    },
    {
     "data": {
      "image/png": "[encoded data removed]",
      "text/plain": [
       "<Figure size 432x288 with 1 Axes>"
      ]
     },
     "metadata": {},
     "output_type": "display_data"
    }
   ],
   "source": [
    "data['PhysicalHealth'].hist(bins = 30, color = 'salmon')"
   ]
  },
  {
   "cell_type": "code",
   "execution_count": 20,
   "id": "f6b49c67",
   "metadata": {},
   "outputs": [
    {
     "data": {
      "text/plain": [
       "<AxesSubplot:>"
      ]
     },
     "execution_count": 20,
     "metadata": {},
     "output_type": "execute_result"
    },
    {
     "data": {
      "image/png": "[encoded data removed]",
      "text/plain": [
       "<Figure size 432x288 with 1 Axes>"
      ]
     },
     "metadata": {},
     "output_type": "display_data"
    }
   ],
   "source": [
    "data['MentalHealth'].hist(bins = 30, color = 'salmon')"
   ]
  },
  {
   "cell_type": "markdown",
   "id": "83095898",
   "metadata": {},
   "source": [
    "For both Physical Health and Mental health, we can see a heavy right skew. It also seems that most people answered '0 days' for both, which sounds like they are 'normal'. But compared to other answers like '8 days' or '15 days', many people (in comparison to other answers within the 1-30 range) answered '30 days', which basically sounds like they don't feel good every day."
   ]
  },
  {
   "cell_type": "markdown",
   "id": "6f73607c",
   "metadata": {},
   "source": [
    "<b>Sex</b>"
   ]
  },
  {
   "cell_type": "code",
   "execution_count": 21,
   "id": "984c2edc",
   "metadata": {},
   "outputs": [
    {
     "data": {
      "text/plain": [
       "<AxesSubplot:>"
      ]
     },
     "execution_count": 21,
     "metadata": {},
     "output_type": "execute_result"
    },
    {
     "data": {
      "image/png": "[encoded data removed]",
      "text/plain": [
       "<Figure size 432x288 with 1 Axes>"
      ]
     },
     "metadata": {},
     "output_type": "display_data"
    }
   ],
   "source": [
    "(data['Sex'].value_counts()/data.shape[0]).plot(kind = 'bar', color = 'salmon')"
   ]
  },
  {
   "cell_type": "markdown",
   "id": "f972763a",
   "metadata": {},
   "source": [
    "<p>Gender distribution seems to be fairly even</p>"
   ]
  },
  {
   "cell_type": "markdown",
   "id": "8921f90e",
   "metadata": {},
   "source": [
    "<b>AgeCategory, Race, Diabetic and GenHealth</b>"
   ]
  },
  {
   "cell_type": "code",
   "execution_count": 22,
   "id": "94720ac0",
   "metadata": {},
   "outputs": [
    {
     "data": {
      "text/html": [
       "<style type=\"text/css\">\n",
       "#T_7667d_row0_col0 {\n",
       "  width: 10em;\n",
       "  height: 80%;\n",
       "  background: linear-gradient(90deg,thistle 100.0%, transparent 100.0%);\n",
       "}\n",
       "#T_7667d_row1_col0 {\n",
       "  width: 10em;\n",
       "  height: 80%;\n",
       "  background: linear-gradient(90deg,thistle 97.3%, transparent 97.3%);\n",
       "}\n",
       "#T_7667d_row2_col0 {\n",
       "  width: 10em;\n",
       "  height: 80%;\n",
       "  background: linear-gradient(90deg,thistle 82.1%, transparent 82.1%);\n",
       "}\n",
       "#T_7667d_row3_col0 {\n",
       "  width: 10em;\n",
       "  height: 80%;\n",
       "  background: linear-gradient(90deg,thistle 74.4%, transparent 74.4%);\n",
       "}\n",
       "#T_7667d_row4_col0 {\n",
       "  width: 10em;\n",
       "  height: 80%;\n",
       "  background: linear-gradient(90deg,thistle 49.0%, transparent 49.0%);\n",
       "}\n",
       "#T_7667d_row5_col0 {\n",
       "  width: 10em;\n",
       "  height: 80%;\n",
       "  background: linear-gradient(90deg,thistle 41.9%, transparent 41.9%);\n",
       "}\n",
       "#T_7667d_row6_col0 {\n",
       "  width: 10em;\n",
       "  height: 80%;\n",
       "  background: linear-gradient(90deg,thistle 28.1%, transparent 28.1%);\n",
       "}\n",
       "#T_7667d_row7_col0 {\n",
       "  width: 10em;\n",
       "  height: 80%;\n",
       "  background: linear-gradient(90deg,thistle 26.3%, transparent 26.3%);\n",
       "}\n",
       "#T_7667d_row8_col0 {\n",
       "  width: 10em;\n",
       "  height: 80%;\n",
       "  background: linear-gradient(90deg,thistle 23.9%, transparent 23.9%);\n",
       "}\n",
       "#T_7667d_row9_col0 {\n",
       "  width: 10em;\n",
       "  height: 80%;\n",
       "  background: linear-gradient(90deg,thistle 23.6%, transparent 23.6%);\n",
       "}\n",
       "#T_7667d_row10_col0 {\n",
       "  width: 10em;\n",
       "  height: 80%;\n",
       "  background: linear-gradient(90deg,thistle 20.9%, transparent 20.9%);\n",
       "}\n",
       "#T_7667d_row11_col0 {\n",
       "  width: 10em;\n",
       "  height: 80%;\n",
       "  background: linear-gradient(90deg,thistle 10.5%, transparent 10.5%);\n",
       "}\n",
       "#T_7667d_row12_col0 {\n",
       "  width: 10em;\n",
       "  height: 80%;\n",
       "}\n",
       "</style>\n",
       "<table id=\"T_7667d_\">\n",
       "  <thead>\n",
       "    <tr>\n",
       "      <th class=\"blank level0\" >&nbsp;</th>\n",
       "      <th class=\"col_heading level0 col0\" >AgeCategory</th>\n",
       "    </tr>\n",
       "  </thead>\n",
       "  <tbody>\n",
       "    <tr>\n",
       "      <th id=\"T_7667d_level0_row0\" class=\"row_heading level0 row0\" >65-69</th>\n",
       "      <td id=\"T_7667d_row0_col0\" class=\"data row0 col0\" >34151</td>\n",
       "    </tr>\n",
       "    <tr>\n",
       "      <th id=\"T_7667d_level0_row1\" class=\"row_heading level0 row1\" >60-64</th>\n",
       "      <td id=\"T_7667d_row1_col0\" class=\"data row1 col0\" >33686</td>\n",
       "    </tr>\n",
       "    <tr>\n",
       "      <th id=\"T_7667d_level0_row2\" class=\"row_heading level0 row2\" >70-74</th>\n",
       "      <td id=\"T_7667d_row2_col0\" class=\"data row2 col0\" >31065</td>\n",
       "    </tr>\n",
       "    <tr>\n",
       "      <th id=\"T_7667d_level0_row3\" class=\"row_heading level0 row3\" >55-59</th>\n",
       "      <td id=\"T_7667d_row3_col0\" class=\"data row3 col0\" >29757</td>\n",
       "    </tr>\n",
       "    <tr>\n",
       "      <th id=\"T_7667d_level0_row4\" class=\"row_heading level0 row4\" >50-54</th>\n",
       "      <td id=\"T_7667d_row4_col0\" class=\"data row4 col0\" >25382</td>\n",
       "    </tr>\n",
       "    <tr>\n",
       "      <th id=\"T_7667d_level0_row5\" class=\"row_heading level0 row5\" >80 or older</th>\n",
       "      <td id=\"T_7667d_row5_col0\" class=\"data row5 col0\" >24153</td>\n",
       "    </tr>\n",
       "    <tr>\n",
       "      <th id=\"T_7667d_level0_row6\" class=\"row_heading level0 row6\" >45-49</th>\n",
       "      <td id=\"T_7667d_row6_col0\" class=\"data row6 col0\" >21791</td>\n",
       "    </tr>\n",
       "    <tr>\n",
       "      <th id=\"T_7667d_level0_row7\" class=\"row_heading level0 row7\" >75-79</th>\n",
       "      <td id=\"T_7667d_row7_col0\" class=\"data row7 col0\" >21482</td>\n",
       "    </tr>\n",
       "    <tr>\n",
       "      <th id=\"T_7667d_level0_row8\" class=\"row_heading level0 row8\" >18-24</th>\n",
       "      <td id=\"T_7667d_row8_col0\" class=\"data row8 col0\" >21064</td>\n",
       "    </tr>\n",
       "    <tr>\n",
       "      <th id=\"T_7667d_level0_row9\" class=\"row_heading level0 row9\" >40-44</th>\n",
       "      <td id=\"T_7667d_row9_col0\" class=\"data row9 col0\" >21006</td>\n",
       "    </tr>\n",
       "    <tr>\n",
       "      <th id=\"T_7667d_level0_row10\" class=\"row_heading level0 row10\" >35-39</th>\n",
       "      <td id=\"T_7667d_row10_col0\" class=\"data row10 col0\" >20550</td>\n",
       "    </tr>\n",
       "    <tr>\n",
       "      <th id=\"T_7667d_level0_row11\" class=\"row_heading level0 row11\" >30-34</th>\n",
       "      <td id=\"T_7667d_row11_col0\" class=\"data row11 col0\" >18753</td>\n",
       "    </tr>\n",
       "    <tr>\n",
       "      <th id=\"T_7667d_level0_row12\" class=\"row_heading level0 row12\" >25-29</th>\n",
       "      <td id=\"T_7667d_row12_col0\" class=\"data row12 col0\" >16955</td>\n",
       "    </tr>\n",
       "  </tbody>\n",
       "</table>\n"
      ],
      "text/plain": [
       "<pandas.io.formats.style.Styler at 0x21950595c70>"
      ]
     },
     "execution_count": 22,
     "metadata": {},
     "output_type": "execute_result"
    }
   ],
   "source": [
    "pd.DataFrame(data['AgeCategory'].value_counts()).style.bar(color='thistle')"
   ]
  },
  {
   "cell_type": "markdown",
   "id": "b90ddf2a",
   "metadata": {},
   "source": [
    "From this we found out that that in this dataset more people are from the age group 50-69"
   ]
  },
  {
   "cell_type": "code",
   "execution_count": 23,
   "id": "fd68e432",
   "metadata": {},
   "outputs": [
    {
     "data": {
      "text/html": [
       "<style type=\"text/css\">\n",
       "#T_a7701_row0_col0 {\n",
       "  width: 10em;\n",
       "  height: 80%;\n",
       "  background: linear-gradient(90deg,thistle 100.0%, transparent 100.0%);\n",
       "}\n",
       "#T_a7701_row1_col0 {\n",
       "  width: 10em;\n",
       "  height: 80%;\n",
       "  background: linear-gradient(90deg,thistle 9.3%, transparent 9.3%);\n",
       "}\n",
       "#T_a7701_row2_col0 {\n",
       "  width: 10em;\n",
       "  height: 80%;\n",
       "  background: linear-gradient(90deg,thistle 7.4%, transparent 7.4%);\n",
       "}\n",
       "#T_a7701_row3_col0 {\n",
       "  width: 10em;\n",
       "  height: 80%;\n",
       "  background: linear-gradient(90deg,thistle 2.4%, transparent 2.4%);\n",
       "}\n",
       "#T_a7701_row4_col0 {\n",
       "  width: 10em;\n",
       "  height: 80%;\n",
       "  background: linear-gradient(90deg,thistle 1.2%, transparent 1.2%);\n",
       "}\n",
       "#T_a7701_row5_col0 {\n",
       "  width: 10em;\n",
       "  height: 80%;\n",
       "}\n",
       "</style>\n",
       "<table id=\"T_a7701_\">\n",
       "  <thead>\n",
       "    <tr>\n",
       "      <th class=\"blank level0\" >&nbsp;</th>\n",
       "      <th class=\"col_heading level0 col0\" >Race</th>\n",
       "    </tr>\n",
       "  </thead>\n",
       "  <tbody>\n",
       "    <tr>\n",
       "      <th id=\"T_a7701_level0_row0\" class=\"row_heading level0 row0\" >White</th>\n",
       "      <td id=\"T_a7701_row0_col0\" class=\"data row0 col0\" >245212</td>\n",
       "    </tr>\n",
       "    <tr>\n",
       "      <th id=\"T_a7701_level0_row1\" class=\"row_heading level0 row1\" >Hispanic</th>\n",
       "      <td id=\"T_a7701_row1_col0\" class=\"data row1 col0\" >27446</td>\n",
       "    </tr>\n",
       "    <tr>\n",
       "      <th id=\"T_a7701_level0_row2\" class=\"row_heading level0 row2\" >Black</th>\n",
       "      <td id=\"T_a7701_row2_col0\" class=\"data row2 col0\" >22939</td>\n",
       "    </tr>\n",
       "    <tr>\n",
       "      <th id=\"T_a7701_level0_row3\" class=\"row_heading level0 row3\" >Other</th>\n",
       "      <td id=\"T_a7701_row3_col0\" class=\"data row3 col0\" >10928</td>\n",
       "    </tr>\n",
       "    <tr>\n",
       "      <th id=\"T_a7701_level0_row4\" class=\"row_heading level0 row4\" >Asian</th>\n",
       "      <td id=\"T_a7701_row4_col0\" class=\"data row4 col0\" >8068</td>\n",
       "    </tr>\n",
       "    <tr>\n",
       "      <th id=\"T_a7701_level0_row5\" class=\"row_heading level0 row5\" >American Indian/Alaskan Native</th>\n",
       "      <td id=\"T_a7701_row5_col0\" class=\"data row5 col0\" >5202</td>\n",
       "    </tr>\n",
       "  </tbody>\n",
       "</table>\n"
      ],
      "text/plain": [
       "<pandas.io.formats.style.Styler at 0x2194a5f5370>"
      ]
     },
     "execution_count": 23,
     "metadata": {},
     "output_type": "execute_result"
    }
   ],
   "source": [
    "pd.DataFrame(data['Race'].value_counts()).style.bar(color='thistle')"
   ]
  },
  {
   "cell_type": "raw",
   "id": "a08b11a0",
   "metadata": {},
   "source": [
    "More people belong to the white race"
   ]
  },
  {
   "cell_type": "code",
   "execution_count": 24,
   "id": "9d298b8c",
   "metadata": {},
   "outputs": [
    {
     "data": {
      "text/html": [
       "<style type=\"text/css\">\n",
       "#T_2b910_row0_col0 {\n",
       "  width: 10em;\n",
       "  height: 80%;\n",
       "  background: linear-gradient(90deg,thistle 100.0%, transparent 100.0%);\n",
       "}\n",
       "#T_2b910_row1_col0 {\n",
       "  width: 10em;\n",
       "  height: 80%;\n",
       "  background: linear-gradient(90deg,thistle 14.3%, transparent 14.3%);\n",
       "}\n",
       "#T_2b910_row2_col0 {\n",
       "  width: 10em;\n",
       "  height: 80%;\n",
       "  background: linear-gradient(90deg,thistle 1.6%, transparent 1.6%);\n",
       "}\n",
       "#T_2b910_row3_col0 {\n",
       "  width: 10em;\n",
       "  height: 80%;\n",
       "}\n",
       "</style>\n",
       "<table id=\"T_2b910_\">\n",
       "  <thead>\n",
       "    <tr>\n",
       "      <th class=\"blank level0\" >&nbsp;</th>\n",
       "      <th class=\"col_heading level0 col0\" >Diabetic</th>\n",
       "    </tr>\n",
       "  </thead>\n",
       "  <tbody>\n",
       "    <tr>\n",
       "      <th id=\"T_2b910_level0_row0\" class=\"row_heading level0 row0\" >No</th>\n",
       "      <td id=\"T_2b910_row0_col0\" class=\"data row0 col0\" >269653</td>\n",
       "    </tr>\n",
       "    <tr>\n",
       "      <th id=\"T_2b910_level0_row1\" class=\"row_heading level0 row1\" >Yes</th>\n",
       "      <td id=\"T_2b910_row1_col0\" class=\"data row1 col0\" >40802</td>\n",
       "    </tr>\n",
       "    <tr>\n",
       "      <th id=\"T_2b910_level0_row2\" class=\"row_heading level0 row2\" >No, borderline diabetes</th>\n",
       "      <td id=\"T_2b910_row2_col0\" class=\"data row2 col0\" >6781</td>\n",
       "    </tr>\n",
       "    <tr>\n",
       "      <th id=\"T_2b910_level0_row3\" class=\"row_heading level0 row3\" >Yes (during pregnancy)</th>\n",
       "      <td id=\"T_2b910_row3_col0\" class=\"data row3 col0\" >2559</td>\n",
       "    </tr>\n",
       "  </tbody>\n",
       "</table>\n"
      ],
      "text/plain": [
       "<pandas.io.formats.style.Styler at 0x2194a5f51c0>"
      ]
     },
     "execution_count": 24,
     "metadata": {},
     "output_type": "execute_result"
    }
   ],
   "source": [
    "pd.DataFrame(data['Diabetic'].value_counts()).style.bar(color = 'thistle')"
   ]
  },
  {
   "cell_type": "code",
   "execution_count": 25,
   "id": "3ffd2ed4",
   "metadata": {},
   "outputs": [
    {
     "data": {
      "text/html": [
       "<style type=\"text/css\">\n",
       "#T_713b5_row0_col0 {\n",
       "  width: 10em;\n",
       "  height: 80%;\n",
       "  background: linear-gradient(90deg,navajowhite 100.0%, transparent 100.0%);\n",
       "}\n",
       "#T_713b5_row1_col0 {\n",
       "  width: 10em;\n",
       "  height: 80%;\n",
       "  background: linear-gradient(90deg,navajowhite 79.8%, transparent 79.8%);\n",
       "}\n",
       "#T_713b5_row2_col0 {\n",
       "  width: 10em;\n",
       "  height: 80%;\n",
       "  background: linear-gradient(90deg,navajowhite 54.2%, transparent 54.2%);\n",
       "}\n",
       "#T_713b5_row3_col0 {\n",
       "  width: 10em;\n",
       "  height: 80%;\n",
       "  background: linear-gradient(90deg,navajowhite 22.8%, transparent 22.8%);\n",
       "}\n",
       "#T_713b5_row4_col0 {\n",
       "  width: 10em;\n",
       "  height: 80%;\n",
       "}\n",
       "</style>\n",
       "<table id=\"T_713b5_\">\n",
       "  <thead>\n",
       "    <tr>\n",
       "      <th class=\"blank level0\" >&nbsp;</th>\n",
       "      <th class=\"col_heading level0 col0\" >GenHealth</th>\n",
       "    </tr>\n",
       "  </thead>\n",
       "  <tbody>\n",
       "    <tr>\n",
       "      <th id=\"T_713b5_level0_row0\" class=\"row_heading level0 row0\" >Very good</th>\n",
       "      <td id=\"T_713b5_row0_col0\" class=\"data row0 col0\" >113858</td>\n",
       "    </tr>\n",
       "    <tr>\n",
       "      <th id=\"T_713b5_level0_row1\" class=\"row_heading level0 row1\" >Good</th>\n",
       "      <td id=\"T_713b5_row1_col0\" class=\"data row1 col0\" >93129</td>\n",
       "    </tr>\n",
       "    <tr>\n",
       "      <th id=\"T_713b5_level0_row2\" class=\"row_heading level0 row2\" >Excellent</th>\n",
       "      <td id=\"T_713b5_row2_col0\" class=\"data row2 col0\" >66842</td>\n",
       "    </tr>\n",
       "    <tr>\n",
       "      <th id=\"T_713b5_level0_row3\" class=\"row_heading level0 row3\" >Fair</th>\n",
       "      <td id=\"T_713b5_row3_col0\" class=\"data row3 col0\" >34677</td>\n",
       "    </tr>\n",
       "    <tr>\n",
       "      <th id=\"T_713b5_level0_row4\" class=\"row_heading level0 row4\" >Poor</th>\n",
       "      <td id=\"T_713b5_row4_col0\" class=\"data row4 col0\" >11289</td>\n",
       "    </tr>\n",
       "  </tbody>\n",
       "</table>\n"
      ],
      "text/plain": [
       "<pandas.io.formats.style.Styler at 0x2194a5f54c0>"
      ]
     },
     "execution_count": 25,
     "metadata": {},
     "output_type": "execute_result"
    }
   ],
   "source": [
    "pd.DataFrame(data['GenHealth'].value_counts()).style.bar(color='navajowhite')"
   ]
  },
  {
   "cell_type": "markdown",
   "id": "d41c9e2a",
   "metadata": {},
   "source": [
    "<b>Sleep Time</b>"
   ]
  },
  {
   "cell_type": "code",
   "execution_count": 26,
   "id": "daafc779",
   "metadata": {},
   "outputs": [
    {
     "data": {
      "text/plain": [
       "<AxesSubplot:>"
      ]
     },
     "execution_count": 26,
     "metadata": {},
     "output_type": "execute_result"
    },
    {
     "data": {
      "image/png": "[encoded data removed]",
      "text/plain": [
       "<Figure size 432x288 with 1 Axes>"
      ]
     },
     "metadata": {},
     "output_type": "display_data"
    }
   ],
   "source": [
    "data['SleepTime'].hist(bins = 15, color = 'lightpink')"
   ]
  },
  {
   "cell_type": "markdown",
   "id": "b155922d",
   "metadata": {},
   "source": [
    "Table Visualization of the same column is shown below (SleepTime)"
   ]
  },
  {
   "cell_type": "code",
   "execution_count": 27,
   "id": "1e624a81",
   "metadata": {},
   "outputs": [
    {
     "data": {
      "text/html": [
       "<style type=\"text/css\">\n",
       "#T_04ca0_row0_col0 {\n",
       "  width: 10em;\n",
       "  height: 80%;\n",
       "  background: linear-gradient(90deg,lightpink 0.6%, transparent 0.6%);\n",
       "}\n",
       "#T_04ca0_row1_col0 {\n",
       "  width: 10em;\n",
       "  height: 80%;\n",
       "  background: linear-gradient(90deg,lightpink 0.8%, transparent 0.8%);\n",
       "}\n",
       "#T_04ca0_row2_col0 {\n",
       "  width: 10em;\n",
       "  height: 80%;\n",
       "  background: linear-gradient(90deg,lightpink 2.0%, transparent 2.0%);\n",
       "}\n",
       "#T_04ca0_row3_col0 {\n",
       "  width: 10em;\n",
       "  height: 80%;\n",
       "  background: linear-gradient(90deg,lightpink 7.9%, transparent 7.9%);\n",
       "}\n",
       "#T_04ca0_row4_col0 {\n",
       "  width: 10em;\n",
       "  height: 80%;\n",
       "  background: linear-gradient(90deg,lightpink 19.6%, transparent 19.6%);\n",
       "}\n",
       "#T_04ca0_row5_col0 {\n",
       "  width: 10em;\n",
       "  height: 80%;\n",
       "  background: linear-gradient(90deg,lightpink 68.3%, transparent 68.3%);\n",
       "}\n",
       "#T_04ca0_row6_col0 {\n",
       "  width: 10em;\n",
       "  height: 80%;\n",
       "  background: linear-gradient(90deg,lightpink 100.0%, transparent 100.0%);\n",
       "}\n",
       "#T_04ca0_row7_col0 {\n",
       "  width: 10em;\n",
       "  height: 80%;\n",
       "  background: linear-gradient(90deg,lightpink 99.8%, transparent 99.8%);\n",
       "}\n",
       "#T_04ca0_row8_col0 {\n",
       "  width: 10em;\n",
       "  height: 80%;\n",
       "  background: linear-gradient(90deg,lightpink 16.4%, transparent 16.4%);\n",
       "}\n",
       "#T_04ca0_row9_col0 {\n",
       "  width: 10em;\n",
       "  height: 80%;\n",
       "  background: linear-gradient(90deg,lightpink 8.0%, transparent 8.0%);\n",
       "}\n",
       "#T_04ca0_row10_col0 {\n",
       "  width: 10em;\n",
       "  height: 80%;\n",
       "  background: linear-gradient(90deg,lightpink 0.4%, transparent 0.4%);\n",
       "}\n",
       "#T_04ca0_row11_col0 {\n",
       "  width: 10em;\n",
       "  height: 80%;\n",
       "  background: linear-gradient(90deg,lightpink 2.3%, transparent 2.3%);\n",
       "}\n",
       "#T_04ca0_row12_col0, #T_04ca0_row17_col0, #T_04ca0_row19_col0 {\n",
       "  width: 10em;\n",
       "  height: 80%;\n",
       "  background: linear-gradient(90deg,lightpink 0.1%, transparent 0.1%);\n",
       "}\n",
       "#T_04ca0_row13_col0, #T_04ca0_row14_col0, #T_04ca0_row15_col0 {\n",
       "  width: 10em;\n",
       "  height: 80%;\n",
       "  background: linear-gradient(90deg,lightpink 0.2%, transparent 0.2%);\n",
       "}\n",
       "#T_04ca0_row16_col0, #T_04ca0_row18_col0, #T_04ca0_row21_col0, #T_04ca0_row22_col0, #T_04ca0_row23_col0 {\n",
       "  width: 10em;\n",
       "  height: 80%;\n",
       "  background: linear-gradient(90deg,lightpink 0.0%, transparent 0.0%);\n",
       "}\n",
       "#T_04ca0_row20_col0 {\n",
       "  width: 10em;\n",
       "  height: 80%;\n",
       "}\n",
       "</style>\n",
       "<table id=\"T_04ca0_\">\n",
       "  <thead>\n",
       "    <tr>\n",
       "      <th class=\"blank level0\" >&nbsp;</th>\n",
       "      <th class=\"col_heading level0 col0\" >SleepTime</th>\n",
       "    </tr>\n",
       "  </thead>\n",
       "  <tbody>\n",
       "    <tr>\n",
       "      <th id=\"T_04ca0_level0_row0\" class=\"row_heading level0 row0\" >1.0</th>\n",
       "      <td id=\"T_04ca0_row0_col0\" class=\"data row0 col0\" >551</td>\n",
       "    </tr>\n",
       "    <tr>\n",
       "      <th id=\"T_04ca0_level0_row1\" class=\"row_heading level0 row1\" >2.0</th>\n",
       "      <td id=\"T_04ca0_row1_col0\" class=\"data row1 col0\" >788</td>\n",
       "    </tr>\n",
       "    <tr>\n",
       "      <th id=\"T_04ca0_level0_row2\" class=\"row_heading level0 row2\" >3.0</th>\n",
       "      <td id=\"T_04ca0_row2_col0\" class=\"data row2 col0\" >1992</td>\n",
       "    </tr>\n",
       "    <tr>\n",
       "      <th id=\"T_04ca0_level0_row3\" class=\"row_heading level0 row3\" >4.0</th>\n",
       "      <td id=\"T_04ca0_row3_col0\" class=\"data row3 col0\" >7750</td>\n",
       "    </tr>\n",
       "    <tr>\n",
       "      <th id=\"T_04ca0_level0_row4\" class=\"row_heading level0 row4\" >5.0</th>\n",
       "      <td id=\"T_04ca0_row4_col0\" class=\"data row4 col0\" >19184</td>\n",
       "    </tr>\n",
       "    <tr>\n",
       "      <th id=\"T_04ca0_level0_row5\" class=\"row_heading level0 row5\" >6.0</th>\n",
       "      <td id=\"T_04ca0_row5_col0\" class=\"data row5 col0\" >66721</td>\n",
       "    </tr>\n",
       "    <tr>\n",
       "      <th id=\"T_04ca0_level0_row6\" class=\"row_heading level0 row6\" >7.0</th>\n",
       "      <td id=\"T_04ca0_row6_col0\" class=\"data row6 col0\" >97751</td>\n",
       "    </tr>\n",
       "    <tr>\n",
       "      <th id=\"T_04ca0_level0_row7\" class=\"row_heading level0 row7\" >8.0</th>\n",
       "      <td id=\"T_04ca0_row7_col0\" class=\"data row7 col0\" >97602</td>\n",
       "    </tr>\n",
       "    <tr>\n",
       "      <th id=\"T_04ca0_level0_row8\" class=\"row_heading level0 row8\" >9.0</th>\n",
       "      <td id=\"T_04ca0_row8_col0\" class=\"data row8 col0\" >16041</td>\n",
       "    </tr>\n",
       "    <tr>\n",
       "      <th id=\"T_04ca0_level0_row9\" class=\"row_heading level0 row9\" >10.0</th>\n",
       "      <td id=\"T_04ca0_row9_col0\" class=\"data row9 col0\" >7796</td>\n",
       "    </tr>\n",
       "    <tr>\n",
       "      <th id=\"T_04ca0_level0_row10\" class=\"row_heading level0 row10\" >11.0</th>\n",
       "      <td id=\"T_04ca0_row10_col0\" class=\"data row10 col0\" >415</td>\n",
       "    </tr>\n",
       "    <tr>\n",
       "      <th id=\"T_04ca0_level0_row11\" class=\"row_heading level0 row11\" >12.0</th>\n",
       "      <td id=\"T_04ca0_row11_col0\" class=\"data row11 col0\" >2205</td>\n",
       "    </tr>\n",
       "    <tr>\n",
       "      <th id=\"T_04ca0_level0_row12\" class=\"row_heading level0 row12\" >13.0</th>\n",
       "      <td id=\"T_04ca0_row12_col0\" class=\"data row12 col0\" >97</td>\n",
       "    </tr>\n",
       "    <tr>\n",
       "      <th id=\"T_04ca0_level0_row13\" class=\"row_heading level0 row13\" >14.0</th>\n",
       "      <td id=\"T_04ca0_row13_col0\" class=\"data row13 col0\" >243</td>\n",
       "    </tr>\n",
       "    <tr>\n",
       "      <th id=\"T_04ca0_level0_row14\" class=\"row_heading level0 row14\" >15.0</th>\n",
       "      <td id=\"T_04ca0_row14_col0\" class=\"data row14 col0\" >189</td>\n",
       "    </tr>\n",
       "    <tr>\n",
       "      <th id=\"T_04ca0_level0_row15\" class=\"row_heading level0 row15\" >16.0</th>\n",
       "      <td id=\"T_04ca0_row15_col0\" class=\"data row15 col0\" >236</td>\n",
       "    </tr>\n",
       "    <tr>\n",
       "      <th id=\"T_04ca0_level0_row16\" class=\"row_heading level0 row16\" >17.0</th>\n",
       "      <td id=\"T_04ca0_row16_col0\" class=\"data row16 col0\" >21</td>\n",
       "    </tr>\n",
       "    <tr>\n",
       "      <th id=\"T_04ca0_level0_row17\" class=\"row_heading level0 row17\" >18.0</th>\n",
       "      <td id=\"T_04ca0_row17_col0\" class=\"data row17 col0\" >102</td>\n",
       "    </tr>\n",
       "    <tr>\n",
       "      <th id=\"T_04ca0_level0_row18\" class=\"row_heading level0 row18\" >19.0</th>\n",
       "      <td id=\"T_04ca0_row18_col0\" class=\"data row18 col0\" >3</td>\n",
       "    </tr>\n",
       "    <tr>\n",
       "      <th id=\"T_04ca0_level0_row19\" class=\"row_heading level0 row19\" >20.0</th>\n",
       "      <td id=\"T_04ca0_row19_col0\" class=\"data row19 col0\" >64</td>\n",
       "    </tr>\n",
       "    <tr>\n",
       "      <th id=\"T_04ca0_level0_row20\" class=\"row_heading level0 row20\" >21.0</th>\n",
       "      <td id=\"T_04ca0_row20_col0\" class=\"data row20 col0\" >2</td>\n",
       "    </tr>\n",
       "    <tr>\n",
       "      <th id=\"T_04ca0_level0_row21\" class=\"row_heading level0 row21\" >22.0</th>\n",
       "      <td id=\"T_04ca0_row21_col0\" class=\"data row21 col0\" >9</td>\n",
       "    </tr>\n",
       "    <tr>\n",
       "      <th id=\"T_04ca0_level0_row22\" class=\"row_heading level0 row22\" >23.0</th>\n",
       "      <td id=\"T_04ca0_row22_col0\" class=\"data row22 col0\" >3</td>\n",
       "    </tr>\n",
       "    <tr>\n",
       "      <th id=\"T_04ca0_level0_row23\" class=\"row_heading level0 row23\" >24.0</th>\n",
       "      <td id=\"T_04ca0_row23_col0\" class=\"data row23 col0\" >30</td>\n",
       "    </tr>\n",
       "  </tbody>\n",
       "</table>\n"
      ],
      "text/plain": [
       "<pandas.io.formats.style.Styler at 0x2194f611250>"
      ]
     },
     "execution_count": 27,
     "metadata": {},
     "output_type": "execute_result"
    }
   ],
   "source": [
    "pd.DataFrame(data['SleepTime'].value_counts().sort_index()).style.bar(color='lightpink')"
   ]
  },
  {
   "cell_type": "code",
   "execution_count": 28,
   "id": "e0c01e4f",
   "metadata": {},
   "outputs": [
    {
     "data": {
      "text/plain": [
       "0.31"
      ]
     },
     "execution_count": 28,
     "metadata": {},
     "output_type": "execute_result"
    }
   ],
   "source": [
    "round(100 * (data['SleepTime'] > 12).sum()/data.shape[0], 2) #Percentage of people with 12 hours of sleep."
   ]
  },
  {
   "cell_type": "markdown",
   "id": "d015e466",
   "metadata": {},
   "source": [
    "There are small proportions with over 12 hours of sleep (about 0.3% in total)"
   ]
  },
  {
   "cell_type": "markdown",
   "id": "741ba65b",
   "metadata": {},
   "source": [
    "<b>Correlation Matrix</b>\n",
    "<p>We only have 4 numerical columns out of 18 columns,so the correlation matrix is as follows:</p>"
   ]
  },
  {
   "cell_type": "code",
   "execution_count": 29,
   "id": "a23db65a",
   "metadata": {},
   "outputs": [
    {
     "data": {
      "text/html": [
       "<div>\n",
       "<style scoped>\n",
       "    .dataframe tbody tr th:only-of-type {\n",
       "        vertical-align: middle;\n",
       "    }\n",
       "\n",
       "    .dataframe tbody tr th {\n",
       "        vertical-align: top;\n",
       "    }\n",
       "\n",
       "    .dataframe thead th {\n",
       "        text-align: right;\n",
       "    }\n",
       "</style>\n",
       "<table border=\"1\" class=\"dataframe\">\n",
       "  <thead>\n",
       "    <tr style=\"text-align: right;\">\n",
       "      <th></th>\n",
       "      <th>BMI</th>\n",
       "      <th>PhysicalHealth</th>\n",
       "      <th>MentalHealth</th>\n",
       "      <th>SleepTime</th>\n",
       "    </tr>\n",
       "  </thead>\n",
       "  <tbody>\n",
       "    <tr>\n",
       "      <th>BMI</th>\n",
       "      <td>1.000000</td>\n",
       "      <td>0.109788</td>\n",
       "      <td>0.064131</td>\n",
       "      <td>-0.051822</td>\n",
       "    </tr>\n",
       "    <tr>\n",
       "      <th>PhysicalHealth</th>\n",
       "      <td>0.109788</td>\n",
       "      <td>1.000000</td>\n",
       "      <td>0.287987</td>\n",
       "      <td>-0.061387</td>\n",
       "    </tr>\n",
       "    <tr>\n",
       "      <th>MentalHealth</th>\n",
       "      <td>0.064131</td>\n",
       "      <td>0.287987</td>\n",
       "      <td>1.000000</td>\n",
       "      <td>-0.119717</td>\n",
       "    </tr>\n",
       "    <tr>\n",
       "      <th>SleepTime</th>\n",
       "      <td>-0.051822</td>\n",
       "      <td>-0.061387</td>\n",
       "      <td>-0.119717</td>\n",
       "      <td>1.000000</td>\n",
       "    </tr>\n",
       "  </tbody>\n",
       "</table>\n",
       "</div>"
      ],
      "text/plain": [
       "                     BMI  PhysicalHealth  MentalHealth  SleepTime\n",
       "BMI             1.000000        0.109788      0.064131  -0.051822\n",
       "PhysicalHealth  0.109788        1.000000      0.287987  -0.061387\n",
       "MentalHealth    0.064131        0.287987      1.000000  -0.119717\n",
       "SleepTime      -0.051822       -0.061387     -0.119717   1.000000"
      ]
     },
     "execution_count": 29,
     "metadata": {},
     "output_type": "execute_result"
    }
   ],
   "source": [
    "data.corr()"
   ]
  },
  {
   "cell_type": "code",
   "execution_count": 30,
   "id": "7cbc6e00",
   "metadata": {},
   "outputs": [
    {
     "data": {
      "text/plain": [
       "<AxesSubplot:>"
      ]
     },
     "execution_count": 30,
     "metadata": {},
     "output_type": "execute_result"
    },
    {
     "data": {
      "image/png": "[encoded data removed]",
      "text/plain": [
       "<Figure size 432x288 with 2 Axes>"
      ]
     },
     "metadata": {},
     "output_type": "display_data"
    }
   ],
   "source": [
    "sns.heatmap(data.corr())"
   ]
  },
  {
   "cell_type": "markdown",
   "id": "a712a6fa",
   "metadata": {},
   "source": [
    "<h1 style=\"font-family:URW Chancery L, cursive;color:red\">4. Heart Disease Distribution for each Column</h1>\n",
    "<p>In the following, <b>Heart Disease Distribution</b> for each of the other columns is shown.</p>\n",
    "<br>\n",
    "<p>Since the HeartDisease columns are given as 'Yes' or 'No' values, the following code will change them into numerics (Yes: 1, No: 0)</p>"
   ]
  },
  {
   "cell_type": "code",
   "execution_count": 31,
   "id": "83759f46",
   "metadata": {},
   "outputs": [
    {
     "data": {
      "text/html": [
       "<div>\n",
       "<style scoped>\n",
       "    .dataframe tbody tr th:only-of-type {\n",
       "        vertical-align: middle;\n",
       "    }\n",
       "\n",
       "    .dataframe tbody tr th {\n",
       "        vertical-align: top;\n",
       "    }\n",
       "\n",
       "    .dataframe thead th {\n",
       "        text-align: right;\n",
       "    }\n",
       "</style>\n",
       "<table border=\"1\" class=\"dataframe\">\n",
       "  <thead>\n",
       "    <tr style=\"text-align: right;\">\n",
       "      <th></th>\n",
       "      <th>HeartDisease</th>\n",
       "    </tr>\n",
       "  </thead>\n",
       "  <tbody>\n",
       "    <tr>\n",
       "      <th>0</th>\n",
       "      <td>0</td>\n",
       "    </tr>\n",
       "    <tr>\n",
       "      <th>1</th>\n",
       "      <td>0</td>\n",
       "    </tr>\n",
       "    <tr>\n",
       "      <th>2</th>\n",
       "      <td>0</td>\n",
       "    </tr>\n",
       "    <tr>\n",
       "      <th>3</th>\n",
       "      <td>0</td>\n",
       "    </tr>\n",
       "    <tr>\n",
       "      <th>4</th>\n",
       "      <td>0</td>\n",
       "    </tr>\n",
       "  </tbody>\n",
       "</table>\n",
       "</div>"
      ],
      "text/plain": [
       "   HeartDisease\n",
       "0             0\n",
       "1             0\n",
       "2             0\n",
       "3             0\n",
       "4             0"
      ]
     },
     "execution_count": 31,
     "metadata": {},
     "output_type": "execute_result"
    }
   ],
   "source": [
    "data['HeartDisease'] = 1 * (data['HeartDisease'] == 'Yes')\n",
    "pd.DataFrame(data['HeartDisease'].head(5))"
   ]
  },
  {
   "cell_type": "markdown",
   "id": "df7ed73c",
   "metadata": {},
   "source": [
    "<b>Yes_Or_No Columns</b>"
   ]
  },
  {
   "cell_type": "code",
   "execution_count": 32,
   "id": "c5805cd5",
   "metadata": {},
   "outputs": [
    {
     "data": {
      "image/png": "[encoded data removed]",
      "text/plain": [
       "<Figure size 1080x576 with 8 Axes>"
      ]
     },
     "metadata": {},
     "output_type": "display_data"
    }
   ],
   "source": [
    "fig, axes = plt.subplots(nrows=2, ncols=4, sharey = True, figsize = (15,8))\n",
    "plt.subplots_adjust(hspace = 0.5)\n",
    "\n",
    "for Column in Yes_No_Columns:\n",
    "    row_n= int((Yes_No_Columns.index(Column) - Yes_No_Columns.index(Column) % 4)/4)\n",
    "    column_n = Yes_No_Columns.index(Column) % 4\n",
    "    data.groupby(Column)['HeartDisease'].mean().plot(kind = 'bar', ax = axes[row_n,column_n], title = Column, color = 'lightblue')"
   ]
  },
  {
   "cell_type": "markdown",
   "id": "cf4620d4",
   "metadata": {},
   "source": [
    "people who already suffered from a stroke and have kidney disease have high chances of suffering from a heart disease."
   ]
  },
  {
   "cell_type": "markdown",
   "id": "0888400d",
   "metadata": {},
   "source": [
    "<b>Sex, AgeCategory, Race, Diabetic, GenHealth</b>"
   ]
  },
  {
   "cell_type": "code",
   "execution_count": 33,
   "id": "05549a42",
   "metadata": {},
   "outputs": [
    {
     "data": {
      "text/plain": [
       "<AxesSubplot:xlabel='Sex'>"
      ]
     },
     "execution_count": 33,
     "metadata": {},
     "output_type": "execute_result"
    },
    {
     "data": {
      "image/png": "[encoded data removed]",
      "text/plain": [
       "<Figure size 432x288 with 1 Axes>"
      ]
     },
     "metadata": {},
     "output_type": "display_data"
    }
   ],
   "source": [
    "data.groupby('Sex')['HeartDisease'].mean().plot(kind = 'bar', color = 'tan')"
   ]
  },
  {
   "cell_type": "markdown",
   "id": "4b045ef8",
   "metadata": {},
   "source": [
    "We can see that there is a higher proportion with males."
   ]
  },
  {
   "cell_type": "code",
   "execution_count": 34,
   "id": "a84dca02",
   "metadata": {},
   "outputs": [
    {
     "data": {
      "text/plain": [
       "<AxesSubplot:xlabel='AgeCategory'>"
      ]
     },
     "execution_count": 34,
     "metadata": {},
     "output_type": "execute_result"
    },
    {
     "data": {
      "image/png": "[encoded data removed]",
      "text/plain": [
       "<Figure size 432x288 with 1 Axes>"
      ]
     },
     "metadata": {},
     "output_type": "display_data"
    }
   ],
   "source": [
    "data.groupby('AgeCategory')['HeartDisease'].mean().plot(kind = 'bar', color = 'thistle')"
   ]
  },
  {
   "cell_type": "markdown",
   "id": "ff7334f2",
   "metadata": {},
   "source": [
    "We can see that there is a higher proportion with more age category."
   ]
  },
  {
   "cell_type": "code",
   "execution_count": 35,
   "id": "b072a09c",
   "metadata": {},
   "outputs": [
    {
     "data": {
      "text/plain": [
       "<AxesSubplot:xlabel='Race'>"
      ]
     },
     "execution_count": 35,
     "metadata": {},
     "output_type": "execute_result"
    },
    {
     "data": {
      "image/png": "[encoded data removed]",
      "text/plain": [
       "<Figure size 432x288 with 1 Axes>"
      ]
     },
     "metadata": {},
     "output_type": "display_data"
    }
   ],
   "source": [
    "data.groupby('Race')['HeartDisease'].mean().plot(kind = 'bar', color = 'tan')"
   ]
  },
  {
   "cell_type": "markdown",
   "id": "d25ba167",
   "metadata": {},
   "source": [
    "Lowest Proportion with 'Asian' and Highest with 'American Indian/Alaskan Native'."
   ]
  },
  {
   "cell_type": "code",
   "execution_count": 36,
   "id": "4bf5ffd6",
   "metadata": {},
   "outputs": [
    {
     "data": {
      "text/plain": [
       "<AxesSubplot:xlabel='Diabetic'>"
      ]
     },
     "execution_count": 36,
     "metadata": {},
     "output_type": "execute_result"
    },
    {
     "data": {
      "image/png": "[encoded data removed]",
      "text/plain": [
       "<Figure size 432x288 with 1 Axes>"
      ]
     },
     "metadata": {},
     "output_type": "display_data"
    }
   ],
   "source": [
    "data.groupby('Diabetic')['HeartDisease'].mean().plot(kind = 'bar', color = 'thistle')"
   ]
  },
  {
   "cell_type": "code",
   "execution_count": 37,
   "id": "755a4495",
   "metadata": {},
   "outputs": [
    {
     "data": {
      "text/plain": [
       "<AxesSubplot:xlabel='GenHealth'>"
      ]
     },
     "execution_count": 37,
     "metadata": {},
     "output_type": "execute_result"
    },
    {
     "data": {
      "image/png": "[encoded data removed]",
      "text/plain": [
       "<Figure size 432x288 with 1 Axes>"
      ]
     },
     "metadata": {},
     "output_type": "display_data"
    }
   ],
   "source": [
    "data.groupby('GenHealth')['HeartDisease'].mean().sort_values().plot(kind = 'bar', color = 'tan')"
   ]
  },
  {
   "cell_type": "markdown",
   "id": "a8d8e6a4",
   "metadata": {},
   "source": [
    "<b>BMI</b>\n",
    "<p><a href=\"https://www.cdc.gov/healthyweight/assessing/bmi/adult_bmi/index.html\">link</a> shows the following table of BMI Interpretations:</p>"
   ]
  },
  {
   "cell_type": "code",
   "execution_count": 38,
   "id": "6cfa95a3",
   "metadata": {},
   "outputs": [
    {
     "data": {
      "text/html": [
       "<div>\n",
       "<style scoped>\n",
       "    .dataframe tbody tr th:only-of-type {\n",
       "        vertical-align: middle;\n",
       "    }\n",
       "\n",
       "    .dataframe tbody tr th {\n",
       "        vertical-align: top;\n",
       "    }\n",
       "\n",
       "    .dataframe thead th {\n",
       "        text-align: right;\n",
       "    }\n",
       "</style>\n",
       "<table border=\"1\" class=\"dataframe\">\n",
       "  <thead>\n",
       "    <tr style=\"text-align: right;\">\n",
       "      <th></th>\n",
       "      <th>Weight Status</th>\n",
       "    </tr>\n",
       "  </thead>\n",
       "  <tbody>\n",
       "    <tr>\n",
       "      <th>Below 18.5</th>\n",
       "      <td>Underweight</td>\n",
       "    </tr>\n",
       "    <tr>\n",
       "      <th>18.5-24.9</th>\n",
       "      <td>Healthy Weight</td>\n",
       "    </tr>\n",
       "    <tr>\n",
       "      <th>25.0-29.9</th>\n",
       "      <td>Overweight</td>\n",
       "    </tr>\n",
       "    <tr>\n",
       "      <th>30.0 and Above</th>\n",
       "      <td>Obsesity</td>\n",
       "    </tr>\n",
       "  </tbody>\n",
       "</table>\n",
       "</div>"
      ],
      "text/plain": [
       "                 Weight Status\n",
       "Below 18.5         Underweight\n",
       "18.5-24.9       Healthy Weight\n",
       "25.0-29.9           Overweight\n",
       "30.0 and Above        Obsesity"
      ]
     },
     "execution_count": 38,
     "metadata": {},
     "output_type": "execute_result"
    }
   ],
   "source": [
    "pd.DataFrame(data = {'Weight Status' :['Underweight', 'Healthy Weight', 'Overweight', 'Obsesity']}, index = ['Below 18.5', '18.5-24.9', '25.0-29.9', '30.0 and Above'])"
   ]
  },
  {
   "cell_type": "markdown",
   "id": "f4d1daca",
   "metadata": {},
   "source": [
    "Heart Disease Distribution according to the above table yields the following result:"
   ]
  },
  {
   "cell_type": "code",
   "execution_count": 39,
   "id": "0700a85d",
   "metadata": {},
   "outputs": [
    {
     "data": {
      "text/plain": [
       "<AxesSubplot:xlabel='BMI_1'>"
      ]
     },
     "execution_count": 39,
     "metadata": {},
     "output_type": "execute_result"
    },
    {
     "data": {
      "image/png": "[encoded data removed]",
      "text/plain": [
       "<Figure size 432x288 with 1 Axes>"
      ]
     },
     "metadata": {},
     "output_type": "display_data"
    }
   ],
   "source": [
    "data['BMI_1'] = pd.cut(data['BMI'], [0,18.5,25.0,30.0,100], labels = ['Underweight', 'Healthy Weight', 'Overweight', 'Obsesity'], right = False)\n",
    "data.groupby('BMI_1')['HeartDisease'].mean().plot(kind = 'bar', color = 'pink')"
   ]
  },
  {
   "cell_type": "code",
   "execution_count": 40,
   "id": "5ad7f14b",
   "metadata": {},
   "outputs": [
    {
     "data": {
      "text/plain": [
       "<AxesSubplot:xlabel='BMI_2'>"
      ]
     },
     "execution_count": 40,
     "metadata": {},
     "output_type": "execute_result"
    },
    {
     "data": {
      "image/png": "[encoded data removed]",
      "text/plain": [
       "<Figure size 576x288 with 1 Axes>"
      ]
     },
     "metadata": {},
     "output_type": "display_data"
    }
   ],
   "source": [
    "data['BMI_2'] = pd.cut(data['BMI'], [0,18.5,25.0,30.0,40,50,100], labels = ['Underweight', 'Healthy Weight', 'Overweight', 'Obsesity 30-40', 'Obsesity 40-50', 'Obsesity 50-100'], right = False)\n",
    "data.groupby('BMI_2')['HeartDisease'].mean().plot(kind = 'bar', color = 'wheat', figsize = (8,4))"
   ]
  },
  {
   "cell_type": "markdown",
   "id": "137ae3f3",
   "metadata": {},
   "source": [
    "<b>PhysicalHealth and MentalHealth</b>\n",
    "<p></p>"
   ]
  },
  {
   "cell_type": "code",
   "execution_count": 41,
   "id": "a1b05daf",
   "metadata": {},
   "outputs": [
    {
     "data": {
      "text/plain": [
       "<AxesSubplot:xlabel='PhysicalHealth_2'>"
      ]
     },
     "execution_count": 41,
     "metadata": {},
     "output_type": "execute_result"
    },
    {
     "data": {
      "image/png": "[encoded data removed]",
      "text/plain": [
       "<Figure size 432x288 with 1 Axes>"
      ]
     },
     "metadata": {},
     "output_type": "display_data"
    }
   ],
   "source": [
    "data['PhysicalHealth_2'] = pd.cut(data['PhysicalHealth'], [0,1,10,20,30,31], labels = ['0','1-9','10-19','20-29','30'], right = False)\n",
    "data.groupby('PhysicalHealth_2')['HeartDisease'].mean().plot(kind = 'bar', color = 'pink')"
   ]
  },
  {
   "cell_type": "code",
   "execution_count": 42,
   "id": "58e1b125",
   "metadata": {},
   "outputs": [
    {
     "data": {
      "text/plain": [
       "<AxesSubplot:xlabel='MentalHealth_2'>"
      ]
     },
     "execution_count": 42,
     "metadata": {},
     "output_type": "execute_result"
    },
    {
     "data": {
      "image/png": "[encoded data removed]",
      "text/plain": [
       "<Figure size 432x288 with 1 Axes>"
      ]
     },
     "metadata": {},
     "output_type": "display_data"
    }
   ],
   "source": [
    "data['MentalHealth_2'] = pd.cut(data['MentalHealth'], [0,1,10,20,30,31],labels = ['0','1-9','10-19','20-29','30'], right = False)\n",
    "data.groupby('MentalHealth_2')['HeartDisease'].mean().plot(kind = 'bar', color = 'mediumaquamarine')"
   ]
  },
  {
   "cell_type": "markdown",
   "id": "4fa0b95e",
   "metadata": {},
   "source": [
    "The <a href=\"https://www.cdc.gov/sleep/about_sleep/how_much_sleep.html\">link</a> says that the recommended hours of sleep for adults is\n",
    "7 or more (18-60 years)\n",
    "7-9 hours (61-64 years)\n",
    "7-8 hours (65 years and older)\n",
    "\n",
    "Following is the categorization/binning of the sleep hours and what the mean value of HeartDisease is for each."
   ]
  },
  {
   "cell_type": "code",
   "execution_count": 43,
   "id": "c061b960",
   "metadata": {},
   "outputs": [
    {
     "data": {
      "text/plain": [
       "<AxesSubplot:xlabel='SleepTime_2'>"
      ]
     },
     "execution_count": 43,
     "metadata": {},
     "output_type": "execute_result"
    },
    {
     "data": {
      "image/png": "[encoded data removed]",
      "text/plain": [
       "<Figure size 432x288 with 1 Axes>"
      ]
     },
     "metadata": {},
     "output_type": "display_data"
    }
   ],
   "source": [
    "data['SleepTime_2'] = pd.cut(data['SleepTime'], [1,5,6,10,25], right = False)\n",
    "data.groupby('SleepTime_2')['HeartDisease'].mean().plot(kind = 'bar', color = 'burlywood')"
   ]
  },
  {
   "cell_type": "markdown",
   "id": "ab738a56",
   "metadata": {},
   "source": [
    "<h1 style=\"font-family:URW Chancery L, cursive;color:red\">5. Preparation of the Columns for Modelling</h1>\n",
    "In order for the columns to be used for modelling, the columns will be 'prepared' (transformed➡️ to numeric values)\n",
    "\n",
    "Currently, the data table looks like the following:"
   ]
  },
  {
   "cell_type": "code",
   "execution_count": 44,
   "id": "b48f94af",
   "metadata": {},
   "outputs": [
    {
     "data": {
      "text/html": [
       "<div>\n",
       "<style scoped>\n",
       "    .dataframe tbody tr th:only-of-type {\n",
       "        vertical-align: middle;\n",
       "    }\n",
       "\n",
       "    .dataframe tbody tr th {\n",
       "        vertical-align: top;\n",
       "    }\n",
       "\n",
       "    .dataframe thead th {\n",
       "        text-align: right;\n",
       "    }\n",
       "</style>\n",
       "<table border=\"1\" class=\"dataframe\">\n",
       "  <thead>\n",
       "    <tr style=\"text-align: right;\">\n",
       "      <th></th>\n",
       "      <th>HeartDisease</th>\n",
       "      <th>BMI</th>\n",
       "      <th>Smoking</th>\n",
       "      <th>AlcoholDrinking</th>\n",
       "      <th>Stroke</th>\n",
       "      <th>PhysicalHealth</th>\n",
       "      <th>MentalHealth</th>\n",
       "      <th>DiffWalking</th>\n",
       "      <th>Sex</th>\n",
       "      <th>AgeCategory</th>\n",
       "      <th>...</th>\n",
       "      <th>GenHealth</th>\n",
       "      <th>SleepTime</th>\n",
       "      <th>Asthma</th>\n",
       "      <th>KidneyDisease</th>\n",
       "      <th>SkinCancer</th>\n",
       "      <th>BMI_1</th>\n",
       "      <th>BMI_2</th>\n",
       "      <th>PhysicalHealth_2</th>\n",
       "      <th>MentalHealth_2</th>\n",
       "      <th>SleepTime_2</th>\n",
       "    </tr>\n",
       "  </thead>\n",
       "  <tbody>\n",
       "    <tr>\n",
       "      <th>0</th>\n",
       "      <td>0</td>\n",
       "      <td>16.60</td>\n",
       "      <td>Yes</td>\n",
       "      <td>No</td>\n",
       "      <td>No</td>\n",
       "      <td>3.0</td>\n",
       "      <td>30.0</td>\n",
       "      <td>No</td>\n",
       "      <td>Female</td>\n",
       "      <td>55-59</td>\n",
       "      <td>...</td>\n",
       "      <td>Very good</td>\n",
       "      <td>5.0</td>\n",
       "      <td>Yes</td>\n",
       "      <td>No</td>\n",
       "      <td>Yes</td>\n",
       "      <td>Underweight</td>\n",
       "      <td>Underweight</td>\n",
       "      <td>1-9</td>\n",
       "      <td>30</td>\n",
       "      <td>[5, 6)</td>\n",
       "    </tr>\n",
       "    <tr>\n",
       "      <th>1</th>\n",
       "      <td>0</td>\n",
       "      <td>20.34</td>\n",
       "      <td>No</td>\n",
       "      <td>No</td>\n",
       "      <td>Yes</td>\n",
       "      <td>0.0</td>\n",
       "      <td>0.0</td>\n",
       "      <td>No</td>\n",
       "      <td>Female</td>\n",
       "      <td>80 or older</td>\n",
       "      <td>...</td>\n",
       "      <td>Very good</td>\n",
       "      <td>7.0</td>\n",
       "      <td>No</td>\n",
       "      <td>No</td>\n",
       "      <td>No</td>\n",
       "      <td>Healthy Weight</td>\n",
       "      <td>Healthy Weight</td>\n",
       "      <td>0</td>\n",
       "      <td>0</td>\n",
       "      <td>[6, 10)</td>\n",
       "    </tr>\n",
       "    <tr>\n",
       "      <th>2</th>\n",
       "      <td>0</td>\n",
       "      <td>26.58</td>\n",
       "      <td>Yes</td>\n",
       "      <td>No</td>\n",
       "      <td>No</td>\n",
       "      <td>20.0</td>\n",
       "      <td>30.0</td>\n",
       "      <td>No</td>\n",
       "      <td>Male</td>\n",
       "      <td>65-69</td>\n",
       "      <td>...</td>\n",
       "      <td>Fair</td>\n",
       "      <td>8.0</td>\n",
       "      <td>Yes</td>\n",
       "      <td>No</td>\n",
       "      <td>No</td>\n",
       "      <td>Overweight</td>\n",
       "      <td>Overweight</td>\n",
       "      <td>20-29</td>\n",
       "      <td>30</td>\n",
       "      <td>[6, 10)</td>\n",
       "    </tr>\n",
       "    <tr>\n",
       "      <th>3</th>\n",
       "      <td>0</td>\n",
       "      <td>24.21</td>\n",
       "      <td>No</td>\n",
       "      <td>No</td>\n",
       "      <td>No</td>\n",
       "      <td>0.0</td>\n",
       "      <td>0.0</td>\n",
       "      <td>No</td>\n",
       "      <td>Female</td>\n",
       "      <td>75-79</td>\n",
       "      <td>...</td>\n",
       "      <td>Good</td>\n",
       "      <td>6.0</td>\n",
       "      <td>No</td>\n",
       "      <td>No</td>\n",
       "      <td>Yes</td>\n",
       "      <td>Healthy Weight</td>\n",
       "      <td>Healthy Weight</td>\n",
       "      <td>0</td>\n",
       "      <td>0</td>\n",
       "      <td>[6, 10)</td>\n",
       "    </tr>\n",
       "    <tr>\n",
       "      <th>4</th>\n",
       "      <td>0</td>\n",
       "      <td>23.71</td>\n",
       "      <td>No</td>\n",
       "      <td>No</td>\n",
       "      <td>No</td>\n",
       "      <td>28.0</td>\n",
       "      <td>0.0</td>\n",
       "      <td>Yes</td>\n",
       "      <td>Female</td>\n",
       "      <td>40-44</td>\n",
       "      <td>...</td>\n",
       "      <td>Very good</td>\n",
       "      <td>8.0</td>\n",
       "      <td>No</td>\n",
       "      <td>No</td>\n",
       "      <td>No</td>\n",
       "      <td>Healthy Weight</td>\n",
       "      <td>Healthy Weight</td>\n",
       "      <td>20-29</td>\n",
       "      <td>0</td>\n",
       "      <td>[6, 10)</td>\n",
       "    </tr>\n",
       "  </tbody>\n",
       "</table>\n",
       "<p>5 rows × 23 columns</p>\n",
       "</div>"
      ],
      "text/plain": [
       "   HeartDisease    BMI Smoking AlcoholDrinking Stroke  PhysicalHealth  \\\n",
       "0             0  16.60     Yes              No     No             3.0   \n",
       "1             0  20.34      No              No    Yes             0.0   \n",
       "2             0  26.58     Yes              No     No            20.0   \n",
       "3             0  24.21      No              No     No             0.0   \n",
       "4             0  23.71      No              No     No            28.0   \n",
       "\n",
       "   MentalHealth DiffWalking     Sex  AgeCategory  ...  GenHealth SleepTime  \\\n",
       "0          30.0          No  Female        55-59  ...  Very good       5.0   \n",
       "1           0.0          No  Female  80 or older  ...  Very good       7.0   \n",
       "2          30.0          No    Male        65-69  ...       Fair       8.0   \n",
       "3           0.0          No  Female        75-79  ...       Good       6.0   \n",
       "4           0.0         Yes  Female        40-44  ...  Very good       8.0   \n",
       "\n",
       "  Asthma KidneyDisease  SkinCancer           BMI_1           BMI_2  \\\n",
       "0    Yes            No         Yes     Underweight     Underweight   \n",
       "1     No            No          No  Healthy Weight  Healthy Weight   \n",
       "2    Yes            No          No      Overweight      Overweight   \n",
       "3     No            No         Yes  Healthy Weight  Healthy Weight   \n",
       "4     No            No          No  Healthy Weight  Healthy Weight   \n",
       "\n",
       "  PhysicalHealth_2 MentalHealth_2 SleepTime_2  \n",
       "0              1-9             30      [5, 6)  \n",
       "1                0              0     [6, 10)  \n",
       "2            20-29             30     [6, 10)  \n",
       "3                0              0     [6, 10)  \n",
       "4            20-29              0     [6, 10)  \n",
       "\n",
       "[5 rows x 23 columns]"
      ]
     },
     "execution_count": 44,
     "metadata": {},
     "output_type": "execute_result"
    }
   ],
   "source": [
    "data.head()"
   ]
  },
  {
   "cell_type": "markdown",
   "id": "e20c64ec",
   "metadata": {},
   "source": [
    "Binary Categorical Columns"
   ]
  },
  {
   "cell_type": "code",
   "execution_count": 45,
   "id": "5cffee78",
   "metadata": {},
   "outputs": [],
   "source": [
    "for Column in Yes_No_Columns:\n",
    "    data[Column] = 1 * (data[Column] == 'Yes')\n",
    "\n",
    "data['Sex'] = 1 * (data['Sex'] == 'Male')"
   ]
  },
  {
   "cell_type": "markdown",
   "id": "1bce0af8",
   "metadata": {},
   "source": [
    "Ordinal Categorical Columns"
   ]
  },
  {
   "cell_type": "code",
   "execution_count": 46,
   "id": "2ee13cf3",
   "metadata": {},
   "outputs": [],
   "source": [
    "data['BMI'] = pd.cut(data['BMI'], [0,18.5,25.0,30.0,40,50,100], labels = [0,1,2,3,4,5], right = False)\n",
    "\n",
    "data['PhysicalHealth'] = pd.cut(data['PhysicalHealth'], [0,1,10,20,30,31],labels = [0,1,2,3,4], right = False)\n",
    "\n",
    "data['MentalHealth'] = pd.cut(data['MentalHealth'], [0,1,10,20,30,31],labels = [0,1,2,3,4], right = False)\n",
    "\n",
    "data['SleepTime'] = pd.cut(data['SleepTime'], [1,5,6,10,25], labels =[0,1,2,3] , right = False)\n",
    "\n",
    "data = data.drop(['PhysicalHealth_2','MentalHealth_2','SleepTime_2','BMI_1','BMI_2'], axis = 1)\n",
    "\n",
    "mapping_1 = {}\n",
    "\n",
    "for category in sorted(list(data['AgeCategory'].unique())):\n",
    "    mapping_1[category] = sorted(list(data['AgeCategory'].unique())).index(category)\n",
    "\n",
    "maplist_1 = [{'col': 'AgeCategory', \n",
    "            'mapping': mapping_1}]\n",
    "\n",
    "Ordinal_Encoder_1 = OrdinalEncoder(mapping=maplist_1)\n",
    "\n",
    "data = Ordinal_Encoder_1.fit_transform(data)\n",
    "\n",
    "maplist_2 = [{'col': 'GenHealth', \n",
    "            'mapping': {'Poor': 0, 'Fair': 1, 'Good': 2, 'Very good': 3, 'Excellent': 4}}]\n",
    "\n",
    "Ordinal_Encoder_2 = OrdinalEncoder(mapping=maplist_2)\n",
    "\n",
    "data = Ordinal_Encoder_2.fit_transform(data)"
   ]
  },
  {
   "cell_type": "markdown",
   "id": "65104ca8",
   "metadata": {},
   "source": [
    "One Hot Encoding"
   ]
  },
  {
   "cell_type": "code",
   "execution_count": 47,
   "id": "4d84b603",
   "metadata": {},
   "outputs": [],
   "source": [
    "for Race in data['Race'].unique():\n",
    "    data[Race] = 1 * (data['Race'] == Race)\n",
    "\n",
    "for Diabetic in data['Diabetic'].unique():\n",
    "    data[Diabetic] = 1 * (data['Diabetic'] == Diabetic)   \n",
    "    \n",
    "data = data.drop(['Race','Diabetic'], axis = 1)"
   ]
  },
  {
   "cell_type": "markdown",
   "id": "32dea92b",
   "metadata": {},
   "source": [
    "Below is the result of column preparation:"
   ]
  },
  {
   "cell_type": "code",
   "execution_count": 48,
   "id": "f0055058",
   "metadata": {},
   "outputs": [
    {
     "data": {
      "text/html": [
       "<div>\n",
       "<style scoped>\n",
       "    .dataframe tbody tr th:only-of-type {\n",
       "        vertical-align: middle;\n",
       "    }\n",
       "\n",
       "    .dataframe tbody tr th {\n",
       "        vertical-align: top;\n",
       "    }\n",
       "\n",
       "    .dataframe thead th {\n",
       "        text-align: right;\n",
       "    }\n",
       "</style>\n",
       "<table border=\"1\" class=\"dataframe\">\n",
       "  <thead>\n",
       "    <tr style=\"text-align: right;\">\n",
       "      <th></th>\n",
       "      <th>HeartDisease</th>\n",
       "      <th>BMI</th>\n",
       "      <th>Smoking</th>\n",
       "      <th>AlcoholDrinking</th>\n",
       "      <th>Stroke</th>\n",
       "      <th>PhysicalHealth</th>\n",
       "      <th>MentalHealth</th>\n",
       "      <th>DiffWalking</th>\n",
       "      <th>Sex</th>\n",
       "      <th>AgeCategory</th>\n",
       "      <th>...</th>\n",
       "      <th>White</th>\n",
       "      <th>Black</th>\n",
       "      <th>Asian</th>\n",
       "      <th>American Indian/Alaskan Native</th>\n",
       "      <th>Other</th>\n",
       "      <th>Hispanic</th>\n",
       "      <th>Yes</th>\n",
       "      <th>No</th>\n",
       "      <th>No, borderline diabetes</th>\n",
       "      <th>Yes (during pregnancy)</th>\n",
       "    </tr>\n",
       "  </thead>\n",
       "  <tbody>\n",
       "    <tr>\n",
       "      <th>0</th>\n",
       "      <td>0</td>\n",
       "      <td>0</td>\n",
       "      <td>1</td>\n",
       "      <td>0</td>\n",
       "      <td>0</td>\n",
       "      <td>1</td>\n",
       "      <td>4</td>\n",
       "      <td>0</td>\n",
       "      <td>0</td>\n",
       "      <td>7</td>\n",
       "      <td>...</td>\n",
       "      <td>1</td>\n",
       "      <td>0</td>\n",
       "      <td>0</td>\n",
       "      <td>0</td>\n",
       "      <td>0</td>\n",
       "      <td>0</td>\n",
       "      <td>1</td>\n",
       "      <td>0</td>\n",
       "      <td>0</td>\n",
       "      <td>0</td>\n",
       "    </tr>\n",
       "    <tr>\n",
       "      <th>1</th>\n",
       "      <td>0</td>\n",
       "      <td>1</td>\n",
       "      <td>0</td>\n",
       "      <td>0</td>\n",
       "      <td>1</td>\n",
       "      <td>0</td>\n",
       "      <td>0</td>\n",
       "      <td>0</td>\n",
       "      <td>0</td>\n",
       "      <td>12</td>\n",
       "      <td>...</td>\n",
       "      <td>1</td>\n",
       "      <td>0</td>\n",
       "      <td>0</td>\n",
       "      <td>0</td>\n",
       "      <td>0</td>\n",
       "      <td>0</td>\n",
       "      <td>0</td>\n",
       "      <td>1</td>\n",
       "      <td>0</td>\n",
       "      <td>0</td>\n",
       "    </tr>\n",
       "    <tr>\n",
       "      <th>2</th>\n",
       "      <td>0</td>\n",
       "      <td>2</td>\n",
       "      <td>1</td>\n",
       "      <td>0</td>\n",
       "      <td>0</td>\n",
       "      <td>3</td>\n",
       "      <td>4</td>\n",
       "      <td>0</td>\n",
       "      <td>1</td>\n",
       "      <td>9</td>\n",
       "      <td>...</td>\n",
       "      <td>1</td>\n",
       "      <td>0</td>\n",
       "      <td>0</td>\n",
       "      <td>0</td>\n",
       "      <td>0</td>\n",
       "      <td>0</td>\n",
       "      <td>1</td>\n",
       "      <td>0</td>\n",
       "      <td>0</td>\n",
       "      <td>0</td>\n",
       "    </tr>\n",
       "    <tr>\n",
       "      <th>3</th>\n",
       "      <td>0</td>\n",
       "      <td>1</td>\n",
       "      <td>0</td>\n",
       "      <td>0</td>\n",
       "      <td>0</td>\n",
       "      <td>0</td>\n",
       "      <td>0</td>\n",
       "      <td>0</td>\n",
       "      <td>0</td>\n",
       "      <td>11</td>\n",
       "      <td>...</td>\n",
       "      <td>1</td>\n",
       "      <td>0</td>\n",
       "      <td>0</td>\n",
       "      <td>0</td>\n",
       "      <td>0</td>\n",
       "      <td>0</td>\n",
       "      <td>0</td>\n",
       "      <td>1</td>\n",
       "      <td>0</td>\n",
       "      <td>0</td>\n",
       "    </tr>\n",
       "    <tr>\n",
       "      <th>4</th>\n",
       "      <td>0</td>\n",
       "      <td>1</td>\n",
       "      <td>0</td>\n",
       "      <td>0</td>\n",
       "      <td>0</td>\n",
       "      <td>3</td>\n",
       "      <td>0</td>\n",
       "      <td>1</td>\n",
       "      <td>0</td>\n",
       "      <td>4</td>\n",
       "      <td>...</td>\n",
       "      <td>1</td>\n",
       "      <td>0</td>\n",
       "      <td>0</td>\n",
       "      <td>0</td>\n",
       "      <td>0</td>\n",
       "      <td>0</td>\n",
       "      <td>0</td>\n",
       "      <td>1</td>\n",
       "      <td>0</td>\n",
       "      <td>0</td>\n",
       "    </tr>\n",
       "  </tbody>\n",
       "</table>\n",
       "<p>5 rows × 26 columns</p>\n",
       "</div>"
      ],
      "text/plain": [
       "   HeartDisease BMI  Smoking  AlcoholDrinking  Stroke PhysicalHealth  \\\n",
       "0             0   0        1                0       0              1   \n",
       "1             0   1        0                0       1              0   \n",
       "2             0   2        1                0       0              3   \n",
       "3             0   1        0                0       0              0   \n",
       "4             0   1        0                0       0              3   \n",
       "\n",
       "  MentalHealth  DiffWalking  Sex  AgeCategory  ...  White  Black Asian  \\\n",
       "0            4            0    0            7  ...      1      0     0   \n",
       "1            0            0    0           12  ...      1      0     0   \n",
       "2            4            0    1            9  ...      1      0     0   \n",
       "3            0            0    0           11  ...      1      0     0   \n",
       "4            0            1    0            4  ...      1      0     0   \n",
       "\n",
       "   American Indian/Alaskan Native  Other  Hispanic  Yes  No  \\\n",
       "0                               0      0         0    1   0   \n",
       "1                               0      0         0    0   1   \n",
       "2                               0      0         0    1   0   \n",
       "3                               0      0         0    0   1   \n",
       "4                               0      0         0    0   1   \n",
       "\n",
       "   No, borderline diabetes  Yes (during pregnancy)  \n",
       "0                        0                       0  \n",
       "1                        0                       0  \n",
       "2                        0                       0  \n",
       "3                        0                       0  \n",
       "4                        0                       0  \n",
       "\n",
       "[5 rows x 26 columns]"
      ]
     },
     "execution_count": 48,
     "metadata": {},
     "output_type": "execute_result"
    }
   ],
   "source": [
    "data.head()"
   ]
  },
  {
   "cell_type": "markdown",
   "id": "c7201405",
   "metadata": {},
   "source": [
    "<h1 style=\"font-family:URW Chancery L, cursive;color:red\">6. Classification using Logistic Regression</h1>\n",
    "<br>\n",
    "Splitting training and testing data"
   ]
  },
  {
   "cell_type": "code",
   "execution_count": 49,
   "id": "724a542d",
   "metadata": {},
   "outputs": [
    {
     "name": "stdout",
     "output_type": "stream",
     "text": [
      "0.08583291350346577\n",
      "0.08345841150719199\n"
     ]
    }
   ],
   "source": [
    "X = data.drop('HeartDisease', axis = 1)\n",
    "y = data['HeartDisease']\n",
    "\n",
    "X_train, X_test, y_train, y_test = train_test_split(X, y, test_size=0.1, random_state=20)\n",
    "\n",
    "print(y_train.mean())\n",
    "print(y_test.mean())"
   ]
  },
  {
   "cell_type": "markdown",
   "id": "23c938fb",
   "metadata": {},
   "source": [
    "<b>Logistic Regression</b>"
   ]
  },
  {
   "cell_type": "code",
   "execution_count": 50,
   "id": "0c44f5a3",
   "metadata": {},
   "outputs": [],
   "source": [
    "Classifier_1 = LogisticRegression(max_iter=300)\n",
    "\n",
    "Classifier_1.fit(X_train, y_train)\n",
    "\n",
    "Predictions_1 = Classifier_1.predict(X_test)"
   ]
  },
  {
   "cell_type": "markdown",
   "id": "9fdf78c5",
   "metadata": {},
   "source": [
    "**Confusion Matrix**\n",
    "Below is the confusion matrix for this model.\n",
    "\n",
    "✏️Accuracy Score means 'How much(proportion) of the true labels did I get right?'<br>\n",
    "✏️Precision Score: 'Out of the 1s that I predicted, how much did I get right?'<br>\n",
    "✏️Recall Score: 'Out of 1s in the Test Set, how much did I get right?'\n"
   ]
  },
  {
   "cell_type": "code",
   "execution_count": 51,
   "id": "4206cc92",
   "metadata": {},
   "outputs": [
    {
     "name": "stdout",
     "output_type": "stream",
     "text": [
      "Accuracy Score:  0.9192933083176985\n",
      "Precision Score:  0.5785714285714286\n",
      "Recall Score:  0.12139378044211314\n",
      "F1 Score: 0.20068132548776713\n"
     ]
    },
    {
     "data": {
      "image/png": "[encoded data removed]",
      "text/plain": [
       "<Figure size 432x288 with 2 Axes>"
      ]
     },
     "metadata": {},
     "output_type": "display_data"
    }
   ],
   "source": [
    "Confusion = confusion_matrix(y_test, Predictions_1)\n",
    "Display = ConfusionMatrixDisplay(confusion_matrix=Confusion)\n",
    "Display.plot()\n",
    "\n",
    "print('Accuracy Score: ', accuracy_score(y_test, Predictions_1))\n",
    "print('Precision Score: ', precision_score(y_test, Predictions_1))\n",
    "print('Recall Score: ', recall_score(y_test, Predictions_1))\n",
    "print('F1 Score:',f1_score(y_test,Predictions_1))"
   ]
  },
  {
   "cell_type": "markdown",
   "id": "b2b905ec",
   "metadata": {},
   "source": [
    "<h1 style=\"font-family:URW Chancery L, cursive;color:red\">7. Classification using RandomForest</h1>"
   ]
  },
  {
   "cell_type": "code",
   "execution_count": 52,
   "id": "7e0df425",
   "metadata": {},
   "outputs": [],
   "source": [
    "df['HeartDisease'].replace({'No':0,'Yes':1}, inplace=True)\n",
    "\n",
    "df['Smoking'].replace({'No':0,'Yes':1}, inplace=True)\n",
    "\n",
    "df['AlcoholDrinking'].replace({'No':0,'Yes':1}, inplace=True)\n",
    "\n",
    "df['Stroke'].replace({'No':0,'Yes':1}, inplace=True)\n",
    "\n",
    "df['DiffWalking'].replace({'No':0,'Yes':1}, inplace=True)\n",
    "\n",
    "df['Diabetic'].replace({'No':0,'No, borderline diabetes':0,'Yes (during pregnancy)':1,'Yes':1}, inplace=True)\n",
    "\n",
    "df['PhysicalActivity'].replace({'No':0,'Yes':1}, inplace=True)\n",
    "\n",
    "df['Asthma'].replace({'No':0,'Yes':1}, inplace=True)\n",
    "\n",
    "df['KidneyDisease'].replace({'No':0,'Yes':1}, inplace=True)\n",
    "\n",
    "df['SkinCancer'].replace({'No':0,'Yes':1}, inplace=True)\n",
    "\n",
    "df['Sex'].replace({'Male':0,'Female':1}, inplace=True)\n",
    "\n",
    "df['AgeCategory'].replace({'18-24':0,'25-29':1,'30-34':2,'35-39':3,'40-44':4,'45-49':5,'50-54':6,'55-59':7,'60-64':8,'65-69':9,'70-74':10,'75-79':11,'80 or older':12}, inplace=True)\n",
    "\n",
    "df['Race'].replace({'White':0,'Hispanic':1,'Black':2,'Asian':3,'American Indian/Alaskan Native':4,'Other':5}, inplace=True)\n",
    "\n",
    "df['GenHealth'].replace({'Excellent':0,'Very good':1,'Good':2,'Fair':3,'Poor':4}, inplace=True)\n",
    "train, test = train_test_split(df,stratify=df['HeartDisease'],test_size=.2,random_state=0)"
   ]
  },
  {
   "cell_type": "code",
   "execution_count": 53,
   "id": "e7cc3ac3",
   "metadata": {},
   "outputs": [],
   "source": [
    "def outlier(df, columns=None):\n",
    "    if columns == None:\n",
    "        columns = df.columns\n",
    "    for col in columns:\n",
    "        mean = df[col].mean()\n",
    "        std = df[col].std()\n",
    "        \n",
    "        border = np.abs(df[col] - mean) / std\n",
    "        \n",
    "        df = df[(border < 3.0)]\n",
    "    \n",
    "    return df"
   ]
  },
  {
   "cell_type": "code",
   "execution_count": 54,
   "id": "e4e073a8",
   "metadata": {},
   "outputs": [],
   "source": [
    "def outlier_2(df, columns=None):\n",
    "    if columns == None:\n",
    "        columns = df.columns\n",
    "    for col in columns:\n",
    "        mean = df[col].mean()\n",
    "        std = df[col].std()\n",
    "        \n",
    "        border = np.abs(df[col] - mean) / std\n",
    "        \n",
    "        df = df[(border < 1.9)]\n",
    "    \n",
    "    return df"
   ]
  },
  {
   "cell_type": "code",
   "execution_count": 55,
   "id": "052158bd",
   "metadata": {},
   "outputs": [],
   "source": [
    "def outlier_3(df, columns=None):\n",
    "    if columns == None:\n",
    "        columns = df.columns\n",
    "    for col in columns:\n",
    "        mean = df[col].mean()\n",
    "        std = df[col].std()\n",
    "        \n",
    "        border = np.abs(df[col] - mean) / std\n",
    "        \n",
    "        df = df[(border < 1.2)]\n",
    "    \n",
    "    return df"
   ]
  },
  {
   "cell_type": "code",
   "execution_count": 56,
   "id": "6b5dc5ef",
   "metadata": {},
   "outputs": [
    {
     "name": "stdout",
     "output_type": "stream",
     "text": [
      "(255836, 18)\n",
      "(252209, 18)\n",
      "(239853, 18)\n",
      "(216503, 18)\n",
      "(196479, 18)\n"
     ]
    }
   ],
   "source": [
    "print(train.shape)\n",
    "train = outlier(train, ['SleepTime'])\n",
    "print(train.shape)\n",
    "train = outlier_2(train, ['BMI'])\n",
    "print(train.shape)\n",
    "train = outlier_3(train, ['PhysicalHealth'])\n",
    "print(train.shape)\n",
    "train = outlier_3(train, ['MentalHealth'])\n",
    "print(train.shape)"
   ]
  },
  {
   "cell_type": "code",
   "execution_count": 57,
   "id": "a6b58451",
   "metadata": {},
   "outputs": [
    {
     "name": "stdout",
     "output_type": "stream",
     "text": [
      "(63959, 18)\n",
      "(63043, 18)\n",
      "(59793, 18)\n",
      "(54007, 18)\n",
      "(48968, 18)\n"
     ]
    },
    {
     "data": {
      "text/plain": [
       "(63959, 18)"
      ]
     },
     "execution_count": 57,
     "metadata": {},
     "output_type": "execute_result"
    }
   ],
   "source": [
    "print(test.shape)\n",
    "test = outlier(test, ['SleepTime'])\n",
    "print(test.shape)\n",
    "test = outlier_2(test, ['BMI'])\n",
    "print(test.shape)\n",
    "test = outlier_3(test, ['PhysicalHealth'])\n",
    "print(test.shape)\n",
    "test = outlier_3(test, ['MentalHealth'])\n",
    "print(test.shape)\n",
    "(63959, 18)"
   ]
  },
  {
   "cell_type": "code",
   "execution_count": 58,
   "id": "535c3c4e",
   "metadata": {},
   "outputs": [],
   "source": [
    "train['Physical_MentalHealth'] = train['PhysicalHealth'] + train['MentalHealth']\n",
    "test['Physical_MentalHealth'] = test['PhysicalHealth'] + test['MentalHealth']\n",
    "train['PhysicalHealth_log'] = np.log1p(train['PhysicalHealth'])   #Take the logarithm after adding 1\n",
    "train['MentalHealth_log'] = np.log1p(train['MentalHealth'])\n",
    "test['PhysicalHealth_log'] = np.log1p(test['PhysicalHealth'])\n",
    "test['MentalHealth_log'] = np.log1p(test['MentalHealth'])"
   ]
  },
  {
   "cell_type": "code",
   "execution_count": 60,
   "id": "203ab4e0",
   "metadata": {},
   "outputs": [],
   "source": [
    "y_train = train['HeartDisease']\n",
    "X_train = train.drop('HeartDisease',axis=1)\n",
    "X_train, X_valid, y_train, y_valid = train_test_split(X_train, y_train, stratify=train['HeartDisease'], test_size=.2, random_state=1205)\n",
    "\n",
    "y_test = test['HeartDisease']\n",
    "X_test = test.drop('HeartDisease', axis=1)"
   ]
  },
  {
   "cell_type": "code",
   "execution_count": 61,
   "id": "ceaa0563",
   "metadata": {},
   "outputs": [
    {
     "name": "stdout",
     "output_type": "stream",
     "text": [
      "Best params: {'criterion': 'entropy', 'max_depth': 10, 'max_features': 'sqrt', 'n_estimators': 24}\n",
      "Best Score: 0.9302214613627682\n",
      "1.662593424320221\n"
     ]
    }
   ],
   "source": [
    "#grid search\n",
    "\n",
    "import time\n",
    "t1 = time.time()\n",
    "\n",
    "parameters = {  \n",
    "    'n_estimators': [24,28,32],   \n",
    "    'max_features': ('sqrt','log2','auto'), \n",
    "    'max_depth':    (5,10,15),     \n",
    "    'criterion'   : ['gini', 'entropy'],\n",
    "}\n",
    "model = RandomForestClassifier()\n",
    "gridsearch = GridSearchCV(estimator = model,     \n",
    "                          param_grid = parameters, \n",
    "                          cv = 2,\n",
    "                          n_jobs = -1,\n",
    "                          return_train_score = False,\n",
    "                          scoring = \"accuracy\"      \n",
    "                         )\n",
    "gridsearch.fit(X_train, y_train)\n",
    "\n",
    "t2 = time.time()\n",
    "\n",
    "print('Best params: {}'.format(gridsearch.best_params_)) \n",
    "print('Best Score: {}'.format(gridsearch.best_score_))\n",
    "print((t2-t1)/60)"
   ]
  },
  {
   "cell_type": "code",
   "execution_count": 62,
   "id": "81363fca",
   "metadata": {},
   "outputs": [
    {
     "data": {
      "text/plain": [
       "RandomForestClassifier(criterion='entropy', max_depth=10, max_features='sqrt',\n",
       "                       n_estimators=28, random_state=0)"
      ]
     },
     "execution_count": 62,
     "metadata": {},
     "output_type": "execute_result"
    }
   ],
   "source": [
    "forest = RandomForestClassifier(n_estimators=28, max_depth=10, max_features='sqrt',criterion='entropy',random_state=0)\n",
    "forest.fit(X_train,y_train)"
   ]
  },
  {
   "cell_type": "code",
   "execution_count": 63,
   "id": "de3f5205",
   "metadata": {},
   "outputs": [
    {
     "name": "stdout",
     "output_type": "stream",
     "text": [
      "0.9318946705432521\n",
      "0.930171009771987\n",
      "0.9300972063388335\n"
     ]
    }
   ],
   "source": [
    "print(forest.score(X_train,y_train))\n",
    "print(forest.score(X_valid,y_valid))\n",
    "print(forest.score(X_test,y_test))"
   ]
  },
  {
   "cell_type": "code",
   "execution_count": 64,
   "id": "8800e61f",
   "metadata": {},
   "outputs": [
    {
     "name": "stdout",
     "output_type": "stream",
     "text": [
      "Accuracy Score:  0.9300972063388335\n",
      "Precision Score:  0.6140350877192983\n",
      "Recall Score:  0.01018626309662398\n",
      "F1 Score: 0.02004008016032064\n"
     ]
    },
    {
     "data": {
      "image/png": "[encoded data removed]",
      "text/plain": [
       "<Figure size 432x288 with 2 Axes>"
      ]
     },
     "metadata": {},
     "output_type": "display_data"
    }
   ],
   "source": [
    "Predictions_2=forest.predict(X_test)\n",
    "Confusion = confusion_matrix(y_test, Predictions_2)\n",
    "Display = ConfusionMatrixDisplay(confusion_matrix=Confusion)\n",
    "Display.plot()\n",
    "\n",
    "print('Accuracy Score: ', accuracy_score(y_test, Predictions_2))\n",
    "print('Precision Score: ', precision_score(y_test, Predictions_2))\n",
    "print('Recall Score: ', recall_score(y_test, Predictions_2))\n",
    "print('F1 Score:',f1_score(y_test,Predictions_2))"
   ]
  },
  {
   "cell_type": "markdown",
   "id": "00041a11",
   "metadata": {},
   "source": [
    "<h1 style=\"font-family:URW Chancery L, cursive;color:red\">8. Deployment through Streamlit app</h1>"
   ]
  },
  {
   "cell_type": "markdown",
   "id": "bf5bbb3d",
   "metadata": {},
   "source": [
    "creating a pickle file for the random forest model and used it as model on streamlit"
   ]
  },
  {
   "cell_type": "code",
   "execution_count": 65,
   "id": "ddd01c46",
   "metadata": {},
   "outputs": [],
   "source": [
    "import pickle\n",
    "pickle_out = open(\"forest.pkl\",\"wb\")\n",
    "pickle.dump(forest,pickle_out)\n",
    "pickle_out.close()"
   ]
  }
 ],
 "metadata": {
  "kernelspec": {
   "display_name": "Python 3 (ipykernel)",
   "language": "python",
   "name": "python3"
  },
  "language_info": {
   "codemirror_mode": {
    "name": "ipython",
    "version": 3
   },
   "file_extension": ".py",
   "mimetype": "text/x-python",
   "name": "python",
   "nbconvert_exporter": "python",
   "pygments_lexer": "ipython3",
   "version": "3.9.7"
  }
 },
 "nbformat": 4,
 "nbformat_minor": 5
}
